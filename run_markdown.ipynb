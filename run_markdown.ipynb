{
 "cells": [
  {
   "cell_type": "code",
   "execution_count": 9,
   "metadata": {},
   "outputs": [
    {
     "data": {
      "text/markdown": [
       "# Set up uv package, Please following step by step\n",
       "\n",
       "1. install set up uv by following this website https://docs.astral.sh/uv/\n",
       "   \n",
       "   1.1 if user use windows, please use command below <strong>(Run in PowerShell)<strong>\n",
       "   ```\n",
       "   powershell -ExecutionPolicy ByPass -c \"irm https://astral.sh/uv/install.ps1 | iex\"\n",
       "   ```\n",
       "   \n",
       "   1.2 if user use macOS, please use command below  <strong>(Run in Terminal)<strong>\n",
       "   ```\n",
       "   curl -LsSf https://astral.sh/uv/install.sh | sh\n",
       "\n",
       "   ```\n",
       "\n",
       "2. uv python install 3.12  <strong>(Run in PowerShell / Run in Terminal) <strong>\n",
       "\n",
       "3. check uv --version <strong>(Run in PowerShell / Run in Terminal) <strong>\n",
       "\n",
       "4. create your project folder by choosing your path that you need to create\n",
       "\n",
       "5. cd your folder path and then `uv init [name]` example: `uv init demoGoogle`\n",
       "\n",
       "6. `cd demoGoogle`\n",
       "\n",
       "7. `uv venv`\n",
       "\n",
       "8. `.venv\\Scripts\\activate` \n",
       "\n",
       "9. Use Markdown Editor for Chrome™ or file run_markdown.ipynb for looking the result, How to install \n",
       "\n",
       "\n",
       "# The Libraries that you need to install in uv \n",
       "`uv add jupyter ipykernel markdown langgraph typing_extensions dotenv langchain langchain_community openai langchain_groq`\n",
       "\n",
       "\n",
       "# Until now, You’ve successfully followed the setup guide. Enjoy your experiment! 😉\n"
      ],
      "text/plain": [
       "<IPython.core.display.Markdown object>"
      ]
     },
     "metadata": {},
     "output_type": "display_data"
    }
   ],
   "source": [
    "from IPython.display import Markdown, display\n",
    "file_path = r\"D:\\Workshop Google\\demoGoogle\\README.md\"\n",
    "\n",
    "with open(file_path, 'r', encoding='utf-8') as file:\n",
    "    markdown_content = file.read() \n",
    "    display(Markdown(markdown_content))"
   ]
  }
 ],
 "metadata": {
  "kernelspec": {
   "display_name": ".venv",
   "language": "python",
   "name": "python3"
  },
  "language_info": {
   "codemirror_mode": {
    "name": "ipython",
    "version": 3
   },
   "file_extension": ".py",
   "mimetype": "text/x-python",
   "name": "python",
   "nbconvert_exporter": "python",
   "pygments_lexer": "ipython3",
   "version": "3.13.3"
  }
 },
 "nbformat": 4,
 "nbformat_minor": 2
}
