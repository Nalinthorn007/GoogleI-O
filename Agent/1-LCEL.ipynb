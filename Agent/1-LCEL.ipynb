{
 "cells": [
  {
   "cell_type": "markdown",
   "metadata": {},
   "source": [
    "#### LCEL (LangChain Expression Language) ແມ່ນຫຍັງ:\n",
    "**LCEL ແມ່ນ syntax ຂອງ LangChain ທີ່ໃຊ້ໃນການເຊື່ອມຕໍ່ components ຕ່າງໆເຂົ້າດ້ວຍກັນ ແລະ ສາມາດເຮັດໃຫ້ອ່ານງ່າຍ. ໂດຍມັກຈະໃຊ້ເຄື່ອງໝາຍ | (pipe) ເພື່ອເຊື່ອມຕໍ່ components ຕ່າງໆໃນລຳດັບ.**\n",
    "\n",
    "**HumanMessage:**\n",
    "- ເປັນ class ສຳຫຼັບຈັດເກັບຂໍ້ຄວາມຂອງຜູ້ໃຊ້\n",
    "- ແທນຄຳສັ່ງ ຫຼື ຄຳຖາມທີ່ User ສົ່ງມາ \n",
    "\n",
    "**SystemMessage:**\n",
    "- ເປັນ class ສຳຫຼັບຈັດເກັບຄຳສັ່ງຂອງລະບົບ\n",
    "- ກຳນົດບົດບາດ ແລະ ພຶດຕິກຳຂອງ AI\n",
    "- ຕັ້ງກົດລະບຽບໃຫ້ AI ປະຕິບັດຕາມ\n",
    "\n",
    "**StrOutputParser:**\n",
    "- ເປັນ parser ທີ່ປ່ຽນຜົນລັບຈາກ AI model ໃຫ້ເປັນ string\n",
    "- ເອົາແຕ່ເນື້ອໃນຂອງການຕອບກັບ\n",
    "- ກຳຈັດ metadata ແລະ ຂໍ້ມູນພິເສດອື່ນໆ\n",
    "\n",
    "**Chain:**\n",
    "- ເປັນການເຊື່ອມຕໍ່ components ຫຼາຍໂຕເຂົ້າດ້ວຍກັນ\n",
    "- ສາມາດເຮັດວຽກແບບລຳດັບຂັ້ນຕອນ\n",
    "- ຜົນລັບຈາກ component ກ່ອນຈະເປັນ input ຂອງ component ຕໍ່ໄປ\n",
    "\n",
    "**ChatPromptTemplate:**\n",
    "- ເປັນ template ສຳຫຼັບສ້າງ prompts ສຳຫຼັບ chat models\n",
    "- ສາມາດປະກອບຫຼາຍ message types ເຂົ້າດ້ວຍກັນ\n",
    "- ມີ variables ທີ່ສາມາດປ່ຽນແປງຄ່າໄດ້\n",
    "- ຊ່ວຍໃຫ້ການສ້າງ prompts ເປັນລະບົບ ແລະ ນຳໃຊ້ຄືນໄດ້ "
   ]
  },
  {
   "cell_type": "code",
   "execution_count": 8,
   "metadata": {},
   "outputs": [
    {
     "data": {
      "text/plain": [
       "ChatGroq(client=<groq.resources.chat.completions.Completions object at 0x0000024460E26710>, async_client=<groq.resources.chat.completions.AsyncCompletions object at 0x0000024460E27110>, model_name='meta-llama/llama-4-maverick-17b-128e-instruct', model_kwargs={}, groq_api_key=SecretStr('**********'))"
      ]
     },
     "execution_count": 8,
     "metadata": {},
     "output_type": "execute_result"
    }
   ],
   "source": [
    "import os\n",
    "from dotenv import load_dotenv\n",
    "load_dotenv() \n",
    "groq_api_key=os.getenv(\"GROQ_API_KEY\")\n",
    "\n",
    "from langchain_groq import ChatGroq\n",
    "model=ChatGroq(model=\"meta-llama/llama-4-maverick-17b-128e-instruct\",groq_api_key=groq_api_key)\n",
    "model"
   ]
  },
  {
   "cell_type": "code",
   "execution_count": 11,
   "metadata": {},
   "outputs": [],
   "source": [
    "from langchain_core.messages import HumanMessage,SystemMessage\n",
    "\n",
    "messages=[\n",
    "    SystemMessage(content=\"Translate the following from English to Lao\"),\n",
    "    HumanMessage(content=\"Hello, How is going today ?\")\n",
    "]\n",
    "\n",
    "result=model.invoke(messages)"
   ]
  },
  {
   "cell_type": "code",
   "execution_count": 12,
   "metadata": {},
   "outputs": [
    {
     "data": {
      "text/plain": [
       "AIMessage(content='ສະບາຍດີ ມື້ນີ້ເປັນແນວໃດ?', additional_kwargs={}, response_metadata={'token_usage': {'completion_tokens': 20, 'prompt_tokens': 28, 'total_tokens': 48, 'completion_time': 0.097002696, 'prompt_time': 0.000814175, 'queue_time': 0.057989685, 'total_time': 0.097816871}, 'model_name': 'meta-llama/llama-4-maverick-17b-128e-instruct', 'system_fingerprint': 'fp_c527aa4474', 'service_tier': 'on_demand', 'finish_reason': 'stop', 'logprobs': None}, id='run--bc33a2bd-3db1-4d71-a361-9985c9a969ea-0', usage_metadata={'input_tokens': 28, 'output_tokens': 20, 'total_tokens': 48})"
      ]
     },
     "execution_count": 12,
     "metadata": {},
     "output_type": "execute_result"
    }
   ],
   "source": [
    "result"
   ]
  },
  {
   "cell_type": "code",
   "execution_count": 13,
   "metadata": {},
   "outputs": [
    {
     "data": {
      "text/plain": [
       "'ສະບາຍດີ ມື້ນີ້ເປັນແນວໃດ?'"
      ]
     },
     "execution_count": 13,
     "metadata": {},
     "output_type": "execute_result"
    }
   ],
   "source": [
    "from langchain_core.output_parsers import StrOutputParser\n",
    "parser=StrOutputParser()\n",
    "parser.invoke(result)"
   ]
  },
  {
   "cell_type": "code",
   "execution_count": 14,
   "metadata": {},
   "outputs": [
    {
     "data": {
      "text/plain": [
       "'ສະບາຍດີ ມື້ນີ້ເປັນແນວໃດ?'"
      ]
     },
     "execution_count": 14,
     "metadata": {},
     "output_type": "execute_result"
    }
   ],
   "source": [
    "### Using LCEL- chain the components\n",
    "chain=model|parser\n",
    "chain.invoke(messages)"
   ]
  },
  {
   "cell_type": "code",
   "execution_count": 15,
   "metadata": {},
   "outputs": [],
   "source": [
    "### Prompt Templates\n",
    "from langchain_core.prompts import ChatPromptTemplate\n",
    "\n",
    "generic_template=\"Trnaslate the following into {language}:\"\n",
    "\n",
    "prompt=ChatPromptTemplate.from_messages(\n",
    "    [(\"system\",generic_template),(\"user\",\"{text}\")]\n",
    ")\n",
    "\n"
   ]
  },
  {
   "cell_type": "code",
   "execution_count": 16,
   "metadata": {},
   "outputs": [],
   "source": [
    "result=prompt.invoke({\"language\":\"Lao\",\"text\":\"Hello, How is going today ?\"})"
   ]
  },
  {
   "cell_type": "code",
   "execution_count": 17,
   "metadata": {},
   "outputs": [
    {
     "data": {
      "text/plain": [
       "[SystemMessage(content='Trnaslate the following into Lao:', additional_kwargs={}, response_metadata={}),\n",
       " HumanMessage(content='Hello, How is going today ?', additional_kwargs={}, response_metadata={})]"
      ]
     },
     "execution_count": 17,
     "metadata": {},
     "output_type": "execute_result"
    }
   ],
   "source": [
    "result.to_messages()"
   ]
  },
  {
   "cell_type": "code",
   "execution_count": 18,
   "metadata": {},
   "outputs": [
    {
     "data": {
      "text/plain": [
       "'ສະບາຍດີ, ມື້ນີ້ເປັນແນວໃດ?'"
      ]
     },
     "execution_count": 18,
     "metadata": {},
     "output_type": "execute_result"
    }
   ],
   "source": [
    "##Chaining together components with LCEL\n",
    "chain=prompt|model|parser\n",
    "chain.invoke({\"language\":\"Lao\",\"text\":\"Hello, How is going today ?\"})"
   ]
  }
 ],
 "metadata": {
  "kernelspec": {
   "display_name": ".venv",
   "language": "python",
   "name": "python3"
  },
  "language_info": {
   "codemirror_mode": {
    "name": "ipython",
    "version": 3
   },
   "file_extension": ".py",
   "mimetype": "text/x-python",
   "name": "python",
   "nbconvert_exporter": "python",
   "pygments_lexer": "ipython3",
   "version": "3.13.3"
  }
 },
 "nbformat": 4,
 "nbformat_minor": 2
}
