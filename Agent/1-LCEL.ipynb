{
 "cells": [
  {
   "cell_type": "markdown",
   "metadata": {},
   "source": [
    "#### LCEL (LangChain Expression Language) ແມ່ນຫຍັງ:\n",
    "**LCEL ແມ່ນ syntax ຂອງ LangChain ທີ່ໃຊ້ໃນການເຊື່ອມຕໍ່ components ຕ່າງໆເຂົ້າດ້ວຍກັນ ແລະ ສາມາດເຮັດໃຫ້ອ່ານງ່າຍ. ໂດຍມັກຈະໃຊ້ເຄື່ອງໝາຍ | (pipe) ເພື່ອເຊື່ອມຕໍ່ components ຕ່າງໆໃນລຳດັບ.**\n",
    "\n",
    "**HumanMessage:**\n",
    "- ເປັນ class ສຳຫຼັບຈັດເກັບຂໍ້ຄວາມຂອງຜູ້ໃຊ້\n",
    "- ແທນຄຳສັ່ງ ຫຼື ຄຳຖາມທີ່ User ສົ່ງມາ \n",
    "\n",
    "**SystemMessage:**\n",
    "- ເປັນ class ສຳຫຼັບຈັດເກັບຄຳສັ່ງຂອງລະບົບ\n",
    "- ກຳນົດບົດບາດ ແລະ ພຶດຕິກຳຂອງ AI\n",
    "- ຕັ້ງກົດລະບຽບໃຫ້ AI ປະຕິບັດຕາມ\n",
    "\n",
    "**StrOutputParser:**\n",
    "- ເປັນ parser ທີ່ປ່ຽນຜົນລັບຈາກ AI model ໃຫ້ເປັນ string\n",
    "- ເອົາແຕ່ເນື້ອໃນຂອງການຕອບກັບ\n",
    "- ກຳຈັດ metadata ແລະ ຂໍ້ມູນພິເສດອື່ນໆ\n",
    "\n",
    "**Chain:**\n",
    "- ເປັນການເຊື່ອມຕໍ່ components ຫຼາຍໂຕເຂົ້າດ້ວຍກັນ\n",
    "- ສາມາດເຮັດວຽກແບບລຳດັບຂັ້ນຕອນ\n",
    "- ຜົນລັບຈາກ component ກ່ອນຈະເປັນ input ຂອງ component ຕໍ່ໄປ\n",
    "\n",
    "**ChatPromptTemplate:**\n",
    "- ເປັນ template ສຳຫຼັບສ້າງ prompts ສຳຫຼັບ chat models\n",
    "- ສາມາດປະກອບຫຼາຍ message types ເຂົ້າດ້ວຍກັນ\n",
    "- ມີ variables ທີ່ສາມາດປ່ຽນແປງຄ່າໄດ້\n",
    "- ຊ່ວຍໃຫ້ການສ້າງ prompts ເປັນລະບົບ ແລະ ນຳໃຊ້ຄືນໄດ້ "
   ]
  },
  {
   "cell_type": "markdown",
   "metadata": {},
   "source": [
    "### Optional\n",
    "```python\n",
    "import os\n",
    "from dotenv import load_dotenv\n",
    "load_dotenv() \n",
    "groq_api_key=os.getenv(\"GROQ_API_KEY\")\n",
    "\n",
    "from langchain_groq import ChatGroq\n",
    "model=ChatGroq(model=\"meta-llama/llama-4-maverick-17b-128e-instruct\",groq_api_key=groq_api_key)\n",
    "model\n",
    "```"
   ]
  },
  {
   "cell_type": "code",
   "execution_count": null,
   "metadata": {},
   "outputs": [
    {
     "name": "stdout",
     "output_type": "stream",
     "text": [
      "🤖 Response: Hello! I'm doing well, thank you for asking. As a large language model, I don't experience feelings in the same way humans do, but I'm functioning optimally and ready to assist you.\n",
      "\n",
      "How are **you** doing today? Is there anything I can help you with?\n"
     ]
    }
   ],
   "source": [
    "import os\n",
    "from google.oauth2 import service_account\n",
    "from langchain_google_vertexai import ChatVertexAI\n",
    "from dotenv import load_dotenv\n",
    "\n",
    "# Load environment variables\n",
    "load_dotenv()\n",
    "\n",
    "# Configuration\n",
    "JSON_KEY_PATH = r\"C:\\Users\\Kenshin\\Desktop\\GoogleI-O\\key.json\" \n",
    "PROJECT_ID = os.getenv(\"GOOGLE_CLOUD_PROJECT\") \n",
    "GOOGLE_LOCATION= os.getenv(\"GOOGLE_LOCATION\")\n",
    "\n",
    "try:\n",
    "    # Load credentials\n",
    "    credentials = service_account.Credentials.from_service_account_file(\n",
    "        JSON_KEY_PATH,\n",
    "        scopes=[\"https://www.googleapis.com/auth/cloud-platform\"]\n",
    "    )\n",
    "    \n",
    "    # Initialize Vertex AI model\n",
    "    model = ChatVertexAI(\n",
    "        model_name=\"gemini-2.5-flash-lite\",  \n",
    "        project=PROJECT_ID,\n",
    "        location=GOOGLE_LOCATION, \n",
    "        credentials=credentials,\n",
    "        temperature=1.0\n",
    "    )\n",
    "    \n",
    "    # Test the model\n",
    "    response = model.invoke(\"Hello! How are you today?\")\n",
    "    print(f\"🤖 Response: {response.content}\")\n",
    "\n",
    "except Exception as e:\n",
    "    print(f\"Error occurred: {str(e)}\")"
   ]
  },
  {
   "cell_type": "code",
   "execution_count": 32,
   "metadata": {},
   "outputs": [],
   "source": [
    "from langchain_core.messages import HumanMessage, SystemMessage\n",
    "\n",
    "messages = [\n",
    "    SystemMessage(content=\"You are a professional English to Lao translator. Translate the following English text to Lao language accurately, maintaining the original meaning and tone. Provide only the Lao translation without explanations.\"),\n",
    "    HumanMessage(content=\"Hello, How is going today?\")\n",
    "]\n",
    "\n",
    "result = model.invoke(messages)"
   ]
  },
  {
   "cell_type": "code",
   "execution_count": 33,
   "metadata": {},
   "outputs": [
    {
     "data": {
      "text/plain": [
       "AIMessage(content='ສະບາຍດີ, ມື້ນີ້ເປັນແນວໃດ?', additional_kwargs={}, response_metadata={'token_usage': {'completion_tokens': 21, 'prompt_tokens': 56, 'total_tokens': 77, 'completion_time': 0.099357294, 'prompt_time': 0.0013883, 'queue_time': 0.057221749999999995, 'total_time': 0.100745594}, 'model_name': 'meta-llama/llama-4-maverick-17b-128e-instruct', 'system_fingerprint': 'fp_c527aa4474', 'service_tier': 'on_demand', 'finish_reason': 'stop', 'logprobs': None}, id='run--fdedd11e-57e1-4787-81e2-008d8b59c1db-0', usage_metadata={'input_tokens': 56, 'output_tokens': 21, 'total_tokens': 77})"
      ]
     },
     "execution_count": 33,
     "metadata": {},
     "output_type": "execute_result"
    }
   ],
   "source": [
    "result"
   ]
  },
  {
   "cell_type": "code",
   "execution_count": 34,
   "metadata": {},
   "outputs": [
    {
     "data": {
      "text/plain": [
       "'ສະບາຍດີ, ມື້ນີ້ເປັນແນວໃດ?'"
      ]
     },
     "execution_count": 34,
     "metadata": {},
     "output_type": "execute_result"
    }
   ],
   "source": [
    "from langchain_core.output_parsers import StrOutputParser\n",
    "parser=StrOutputParser()\n",
    "parser.invoke(result)"
   ]
  },
  {
   "cell_type": "code",
   "execution_count": 35,
   "metadata": {},
   "outputs": [
    {
     "data": {
      "text/plain": [
       "'ສະບາຍດີ, ມື້ນີ້ເປັນແນວໃດ?'"
      ]
     },
     "execution_count": 35,
     "metadata": {},
     "output_type": "execute_result"
    }
   ],
   "source": [
    "### Using LCEL- chain the components\n",
    "chain=model|parser\n",
    "chain.invoke(messages)"
   ]
  },
  {
   "cell_type": "code",
   "execution_count": 40,
   "metadata": {},
   "outputs": [],
   "source": [
    "### Prompt Templates\n",
    "from langchain_core.prompts import ChatPromptTemplate\n",
    "\n",
    "generic_template=\"You are a professional English to Lao translator. Translate the following English text to Lao language accurately, maintaining the original meaning and tone. Provide only the Lao translation without explanations. Translate the following into {language}:\"\n",
    "\n",
    "prompt=ChatPromptTemplate.from_messages(\n",
    "    [(\"system\",generic_template),(\"user\",\"{text}\")]\n",
    ")"
   ]
  },
  {
   "cell_type": "code",
   "execution_count": 41,
   "metadata": {},
   "outputs": [],
   "source": [
    "result=prompt.invoke({\"language\":\"Lao\",\"text\":\"Hello, what is Google I/O?\"})"
   ]
  },
  {
   "cell_type": "code",
   "execution_count": 42,
   "metadata": {},
   "outputs": [
    {
     "data": {
      "text/plain": [
       "[SystemMessage(content='You are a professional English to Lao translator. Translate the following English text to Lao language accurately, maintaining the original meaning and tone. Provide only the Lao translation without explanations. Translate the following into Lao:', additional_kwargs={}, response_metadata={}),\n",
       " HumanMessage(content='Hello, what is Google I/O?', additional_kwargs={}, response_metadata={})]"
      ]
     },
     "execution_count": 42,
     "metadata": {},
     "output_type": "execute_result"
    }
   ],
   "source": [
    "result.to_messages()"
   ]
  },
  {
   "cell_type": "code",
   "execution_count": 43,
   "metadata": {},
   "outputs": [
    {
     "data": {
      "text/plain": [
       "'ສະບາຍດີ, Google I/O ແມ່ນຫຍັງ?'"
      ]
     },
     "execution_count": 43,
     "metadata": {},
     "output_type": "execute_result"
    }
   ],
   "source": [
    "##Chaining together components with LCEL\n",
    "chain=prompt|model|parser\n",
    "chain.invoke({\"language\":\"Lao\",\"text\":\"Hello, what is Google I/O?\"})"
   ]
  }
 ],
 "metadata": {
  "kernelspec": {
   "display_name": ".venv",
   "language": "python",
   "name": "python3"
  },
  "language_info": {
   "codemirror_mode": {
    "name": "ipython",
    "version": 3
   },
   "file_extension": ".py",
   "mimetype": "text/x-python",
   "name": "python",
   "nbconvert_exporter": "python",
   "pygments_lexer": "ipython3",
   "version": "3.13.3"
  }
 },
 "nbformat": 4,
 "nbformat_minor": 2
}
