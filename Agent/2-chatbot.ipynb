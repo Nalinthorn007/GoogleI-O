{
 "cells": [
  {
   "cell_type": "markdown",
   "metadata": {},
   "source": [
    "# ການສ້າງ Simple Chatbot ໂດຍໃຊ້ LangGraph "
   ]
  },
  {
   "cell_type": "markdown",
   "metadata": {},
   "source": [
    "**LangGraph ແມ່ນຫຍັງ ?**\n",
    "    - LangGraph ແມ່ນ framework ທີ່ອອກແບບມາສຳຫຼັບການສ້າງ AI applications ທີ່ມີຄວາມຊັບຊ້ອນ ໂດຍໃຊ້ແນວຄິດ graph-based architecture. ມັນເປັນສ່ວນໜຶ່ງຂອງ LangChain ecosystem ທີ່ຊ່ວຍໃຫ້ນັກພັດທະນາສາມາດສ້າງ workflows ທີ່ມີຫຼາຍຂັ້ນຕອນ ແລະ ສາມາດຕັດສິນໃຈໄດ້ຕາມສະຖານະການ.\n",
    "\n",
    "**ຫນ້າທີ່ຫຼັກຂອງ LangGraph**\n",
    "  1. ການຄຸ້ມຄອງສະຖານະ - ຕິດຕາມແລະຈັດການສະຖານະຂອງການສົນທະນາ ແລະ ຂໍ້ມູນຕ່າງໆໃນລະຫວ່າງການປະມວນຜົນ\n",
    "  2. ການສ້າງ Multi-Agent Systems - ອະນຸຍາດໃຫ້ສ້າງ AI agents ຫຼາຍໂຕທີ່ເຮັດວຽກຮ່ວມກັນແບບປະສານງານ\n",
    "  3. ການຄວບຄຸມ Workflow - ກຳນົດລຳດັບການເຮັດວຽກ ແລະ ເງື່ອນໄຂໃນການຕັດສິນໃຈວ່າຈະໄປຂັ້ນຕອນໃດຕໍ່ໄປ\n",
    "  4. ການເຊື່ອມຕໍ່ເຄື່ອງມື - ສາມາດເຊື່ອມຕໍ່ກັບ APIs, databases, ແລະ external tools ຕ່າງໆໄດ້\n",
    "  5. ການຈັດການຂໍ້ຜິດພາດ - ຄຸ້ມຄອງສະຖານະການທີ່ເກີດຂໍ້ຜິດພາດ ແລະ ມີກົນໄກ retry ຫຼື fallback\n",
    "  6. ການປັບແຕ່ງການຕອບສະໜອງ - ອະນຸຍາດໃຫ້ປັບແຕ່ງພຶດຕິກຳຂອງ AI ຕາມສະຖານະການແລະບໍລິບົດທີ່ແຕກຕ່າງກັນ\n",
    "\n",
    "**ChatMessageHistory ?**\n",
    " - ເປັນ class ທີ່ໃຊ້ຈັດເກັບປະຫວັດການສົນທະນາ\n",
    " - ເກັບຂໍ້ມູນໃນ memory (RAM) ຊົ່ວຄາວ\n",
    " - ມີ methods ພື້ນຖານສຳຫຼັບເພີ່ມ, ອ່ານ, ແລະ ລຶບຂໍ້ຄວາມ\n",
    " - ຂໍ້ມູນຈະຫາຍໄປເມື່ອປິດໂປຣແກຣມ\n",
    "\n",
    " **BaseChatMessageHistory ?** \n",
    " - ເປັນ abstract base class ທີ່ເປັນແມ່ແບບໃນການສ້າງ custom message history class\n",
    "\n",
    " **RunnableWithMessageHistory ?** \n",
    "  - ເປັນ wrapper class ທີ່ເພີ່ມຄຸນສົມບັດເກັບ message history ໃຫ້ກັບ chains\n",
    "  - ເຊື່ອມຕໍ່ LangChain components ກັບ message history\n",
    "  - ຈັດການ session IDs ແລະ conversation contexts\n",
    "  - ສາມາດໃຊ້ກັບ message history ປະເພດໃດກໍໄດ້\n",
    "  - ຊ່ວຍໃຫ້ chains ຈົດຈຳການສົນທະນາກ່ອນຫນ້າໄດ້\n",
    "    \n",
    "**Reducers ໃນ LangGraph ?**\n",
    "- Reducers: ໃນ LangGraph ເປັນ functions ທີ່ກຳນົດວິທີການອັບເດດ state ເມື່ອມີການປ່ຽນແປງຈາກ nodes ຕ່າງໆ. ແທນທີ່ຈະ overwrite ຂໍ້ມູນເກົ່າ, reducers ຊ່ວຍໃຫ້ເຮົາ merge ຫຼື combine ຂໍ້ມູນໃໝ່ເຂົ້າກັບຂໍ້ມູນເກົ່າໄດ້. \n",
    "\n",
    "**TypedDict ?**\n",
    "- TypedDict: ໃຊ້ສຳລັບກຳນົດໂຄ້ງສ້າງຂອງ dictionary ແລະ ລະບຸ ປະເພດຂໍ້ມູນ (data types) ຂອງແຕ່ລະ Key ເພື່ອຊ່ວຍໃຫ້ code ມີຄວາມປອດໄພ ແລະ ອ່ານເຂົ້າໃຈງ່າຍຂຶ້ນ\n",
    "\n",
    "**Annotated ?**\n",
    "- Annotated: ໃຊ້ເພື່ອເພີ່ມ metadata ໃຫ້ກັບ type hints\n",
    "    1. ສາມາດປະກອບຂໍ້ມູນເພີ່ມເຕີມໃສ່ໃນການກຳນົດປະເພດ\n",
    "    2. ໃນ LangChain ມັກໃຊ້ກັບ state management\n",
    "    3. ຊ່ວຍໃຫ້ສາມາດກຳນົດພຶດຕິກຳພິເສດຂອງຂໍ້ມູນ\n",
    "    ```\n",
    "    ຕົວຢ່າງ ທົ່ວໄປ:\n",
    "        messages: Annotated[str, \"ສະບາຍດີ\"] \n",
    "    ```\n",
    "\n",
    "    ```\n",
    "    ຕົວຢ່າງ ໃນ LangGraph - ເພີ່ມ reducer:\n",
    "        messages: Annotated[list[int], add]\n",
    "    ```\n",
    "- **add:** (operator.add) ແມ່ນ Python built-in function ສຳລັບການ \"ບວກ\" ຫຼື \"ລວມ\"\n",
    "- **add_messages:** ແມ່ນ  reducer ສຳລັບຈັດການ conversation messages ໂດຍການ Merge ຂໍ້ຄວາມໃຫມ່ເຂົ້າໃນ State\n",
    "- **StateGraph:** ແມ່ນ Main class ສຳລັບສ້າງ LangGraph workflow\n",
    "- **START:** ແມ່ນ Special constant ທີ່ໝາຍເຖິງຈຸດເລີ່ມຕົ້ນຂອງ graph\n",
    "- **END:** ແມ່ນ Special constant ທີ່ໝາຍເຖິງຈຸດສິ້ນສຸດຂອງ graph\n",
    "\n",
    "     "
   ]
  },
  {
   "cell_type": "code",
   "execution_count": null,
   "metadata": {},
   "outputs": [],
   "source": [
    "from typing_extensions import TypedDict\n",
    "from langgraph.graph import StateGraph, START, END\n",
    "\n",
    "# reducers\n",
    "from typing import Annotated\n",
    "from langgraph.graph.message import add_messages\n",
    "from langchain_community.chat_message_histories import ChatMessageHistory\n",
    "from langchain_core.chat_history import BaseChatMessageHistory\n",
    "from langchain_core.runnables.history import RunnableWithMessageHistory\n",
    "from langchain_core.messages import HumanMessage \n",
    "from google.oauth2 import service_account\n",
    "from langchain_google_vertexai import ChatVertexAI\n",
    "\n",
    "import os\n",
    "from dotenv import load_dotenv\n",
    "load_dotenv()\n",
    "\n",
    "# Optional\n",
    "# os.environ[\"GROQ_API_KEY\"]=os.getenv(\"GROQ_API_KEY\")\n",
    "# os.environ[\"OPEN_ROUTER\"]=os.getenv(\"OPEN_ROUTER\")\n",
    "\n"
   ]
  },
  {
   "cell_type": "code",
   "execution_count": 2,
   "metadata": {},
   "outputs": [],
   "source": [
    "class State(TypedDict):\n",
    "    messages:Annotated[list,add_messages]\n",
    "    session_id: str "
   ]
  },
  {
   "cell_type": "markdown",
   "metadata": {},
   "source": [
    "# Optional using Antropic\n",
    "```python\n",
    "    from langchain_anthropic import ChatAnthropic \n",
    "    llm = ChatAnthropic(model=\"claude-3-7-sonnet-20250219\",api_key=os.getenv(\"CLAUDE_API_KEY\"))   \n",
    "    response = llm.invoke(\"Hello\")\n",
    "    print(response)\n",
    "```\n",
    "\n",
    "# Optional using API endpoint Open Router to load model Gemini\n",
    "\n",
    "```python\n",
    "    from langchain.chat_models import ChatOpenAI\n",
    "\n",
    "    llm = ChatOpenAI(\n",
    "    model_name=\"google/gemini-2.0-flash-exp:free\",\n",
    "    openai_api_base=\"https://openrouter.ai/api/v1\",\n",
    "    openai_api_key=os.getenv(\"OPEN_ROUTER\"),\n",
    "    )\n",
    "    response = llm.invoke(\"Hello, how are you?\")\n",
    "    print(response.content)\n",
    "```\n",
    "\n",
    "# Option using Llama4 from Groq\n",
    "\n",
    "```python\n",
    "# using Groq service to load model\n",
    "from langchain_groq import ChatGroq\n",
    "llm_groq=ChatGroq(model=\"meta-llama/llama-4-maverick-17b-128e-instruct\")\n",
    "llm_groq.invoke(\"ສະບາຍດີ ຂ້ອຍຊື່ ນາລິນທອນ ແລະ ຂ້ອຍກໍມັກຮຽນຮູ້ທາງດ້ານ AI ເພື່ອປະກອບສ່ວນໃນການພັດທະນາ AI ໃນປະເທດລາວໃຫ້ມີຄວາມຫນ້າສົນໃຈ ແລະ ຢາກຊ່ວຍສ້າງຄວາມເຂັ້ມແຂງໃຫ້ກັບຊຸມຊົນທ້ອງຖິ່ນໂດຍການນຳເອົາເຕັກໂນໂລຢີມາໃຊ້ໃນການແກ້ໄຂບັນຫາປະຈຳວັນ\")"
   ]
  },
  {
   "cell_type": "code",
   "execution_count": 9,
   "metadata": {},
   "outputs": [
    {
     "name": "stdout",
     "output_type": "stream",
     "text": [
      "🤖 Response: I am doing well, thank you for asking! As a large language model, I don't experience emotions, but I am functioning properly and ready to assist you. How can I help you today?\n",
      "\n"
     ]
    }
   ],
   "source": [
    "# Configuration\n",
    "JSON_KEY_PATH = r\"C:\\Users\\Kenshin\\Desktop\\GoogleI-O\\key.json\" \n",
    "PROJECT_ID = os.getenv(\"GOOGLE_CLOUD_PROJECT\") \n",
    "GOOGLE_LOCATION= os.getenv(\"GOOGLE_LOCATION\")\n",
    "\n",
    "try:\n",
    "    # Load credentials\n",
    "    credentials = service_account.Credentials.from_service_account_file(\n",
    "        JSON_KEY_PATH,\n",
    "        scopes=[\"https://www.googleapis.com/auth/cloud-platform\"]\n",
    "    )\n",
    "    \n",
    "    # Initialize Vertex AI model\n",
    "    llm_gemini = ChatVertexAI(\n",
    "        model_name=\"gemini-2.0-flash-lite-001\",  \n",
    "        project=PROJECT_ID,\n",
    "        location=GOOGLE_LOCATION, \n",
    "        credentials=credentials,\n",
    "        temperature=1.0\n",
    "    )\n",
    "    \n",
    "    # Test the model\n",
    "    response = llm_gemini.invoke(\"Hello! How are you today?\")\n",
    "    print(f\"🤖 Response: {response.content}\")\n",
    "\n",
    "except Exception as e:\n",
    "    print(f\"Error occurred: {str(e)}\")"
   ]
  },
  {
   "cell_type": "code",
   "execution_count": 10,
   "metadata": {},
   "outputs": [],
   "source": [
    "store = {}\n",
    "\n",
    "def get_session_history(session_id: str) -> BaseChatMessageHistory:\n",
    "    if session_id not in store:\n",
    "        store[session_id] = ChatMessageHistory()\n",
    "    return store[session_id]\n",
    "\n",
    "with_message_history = RunnableWithMessageHistory(\n",
    "    llm_gemini,\n",
    "    get_session_history\n",
    ")"
   ]
  },
  {
   "cell_type": "markdown",
   "metadata": {},
   "source": [
    "### ເຮົາຈະເລີ່ມໃນການສ້າງ Nodes"
   ]
  },
  {
   "cell_type": "code",
   "execution_count": 11,
   "metadata": {},
   "outputs": [],
   "source": [
    "def bot(state: State):\n",
    "    messages = state[\"messages\"]\n",
    "    session_id = state.get(\"session_id\", \"default_session\")\n",
    "    \n",
    "    if isinstance(messages, str):\n",
    "        formatted_messages = [HumanMessage(content=messages)]\n",
    "    else:\n",
    "        formatted_messages = messages\n",
    "    \n",
    "    response = with_message_history.invoke(\n",
    "        formatted_messages,  \n",
    "        config={\"configurable\": {\"session_id\": session_id}}\n",
    "    )\n",
    "    \n",
    "    return {\"messages\": [response]}"
   ]
  },
  {
   "cell_type": "code",
   "execution_count": 12,
   "metadata": {},
   "outputs": [
    {
     "data": {
      "image/png": "[encoded data removed]",
      "text/plain": [
       "<IPython.core.display.Image object>"
      ]
     },
     "metadata": {},
     "output_type": "display_data"
    }
   ],
   "source": [
    "graph=StateGraph(State)\n",
    "\n",
    "## node\n",
    "graph.add_node(\"Chatbot\",bot)\n",
    "\n",
    "## Edges\n",
    "graph.add_edge(START,\"Chatbot\")\n",
    "graph.add_edge(\"Chatbot\",END)\n",
    "\n",
    "\n",
    "graph_builder=graph.compile()\n",
    "\n",
    "\n",
    "## Display\n",
    "from IPython.display import Image, display\n",
    "display(Image(graph_builder.get_graph().draw_mermaid_png()))"
   ]
  },
  {
   "cell_type": "markdown",
   "metadata": {},
   "source": [
    "**ຄວາມແຕກຕ່າງລະຫວ່າງ .invoke() ແລະ .stream():**\n",
    "\n",
    "<strong>invoke() method:<strong>\n",
    "\n",
    " - ການດຳເນີນງານ: ເຮັດວຽກແບບ synchronous (ລໍຖ້າໃຫ້ ສຳເລັດ)\n",
    " - ຜົນລັບ: ໄດ້ຮັບຜົນລັບທັງໝົດພ້ອມກັນຫຼັງຈາກປະມວນຜົນສຳເລັດແລ້ວ\n",
    " - ຄວາມໄວ: ຕ້ອງລໍຖ້າໃຫ້ທຸກຂັ້ນຕອນສຳເລັດກ່ອນຈະເຫັນຜົນ\n",
    " - ການນຳໃຊ້: ເໝາະສຳຫຼັບງານທີ່ຕ້ອງການຜົນລັບຄັ້ງດຽວ\n",
    "\n",
    "<strong>stream() method:<strong>\n",
    "\n",
    " - ການດຳເນີນງານ: ເຮັດວຽກແບບ streaming (ສົ່ງຜົນລັບແບບຕໍ່ເນື່ອງ)\n",
    " - ຜົນລັບ: ໄດ້ຮັບຜົນລັບແບບ real-time ຕາມແຕ່ລະຂັ້ນຕອນ\n",
    " - ຄວາມໄວ: ເຫັນຜົນທັນທີຢູ່ແຕ່ລະຂັ້ນຕອນ\n",
    " - ການນຳໃຊ້: ເໝາະສຳຫຼັບການຕິດຕາມ progress ຫຼື debugging\n",
    "\n",
    "<strong>ບໍລິບົດການນຳໃຊ້:<strong>\n",
    "\n",
    " - invoke() → ເມື່ອຕ້ອງການຜົນລັບສຸດທ້າຍເທົ່ານັ້ນ\n",
    " - stream() → ເມື່ອຕ້ອງການເຫັນຂະບວນການປະມວນຜົນ ຫຼື ແກ້ໄຂບັນຫາ\n",
    "\n",
    "<strong>ປະສິດທິພາບ:<strong>\n",
    "\n",
    " - invoke() → ປະຫຍັດ memory ແລະ bandwidth\n",
    " - stream() → ໃຫ້ຄວາມຮູ້ສຶກວ່າມີການຕອບສະໜອງໄວກວ່າ"
   ]
  },
  {
   "cell_type": "markdown",
   "metadata": {},
   "source": [
    "#### Invoke responses"
   ]
  },
  {
   "cell_type": "code",
   "execution_count": 13,
   "metadata": {},
   "outputs": [
    {
     "data": {
      "text/plain": [
       "{'messages': [HumanMessage(content='ສະບາຍດີ,ຂ້ອຍຊື່ ນາລິນທອນ, ຂ້ອຍຮູ້ສືກຕື່ນເຕັນຫລາຍມື້ນີ້ທີ່ຈະໄດ້ມາ share ການສ້າງ AI Agent ກັບທຸກຄນທີ່ຢູ່ໃນ ງານ Google I/O', additional_kwargs={}, response_metadata={}, id='e28d4cde-4642-4ec0-b09c-32e4231eaed6'),\n",
       "  AIMessage(content='ສະບາຍດີ ນາລິນທອນ! ຍິນດີຕ້ອນຮັບສູ່ Google I/O! ດີໃຈຫຼາຍທີ່ໄດ້ຍິນວ່າເຈົ້າຕື່ນເຕັ້ນທີ່ຈະແບ່ງປັນຄວາມຮູ້ກ່ຽວກັບການສ້າງ AI Agent ກັບທຸກຄົນ. ຂໍໃຫ້ເຈົ້າໂຊກດີໃນການນໍາສະເໜີຂອງເຈົ້າ. ຂ້ອຍແນ່ໃຈວ່າເຈົ້າຈະເຮັດໄດ້ດີ! \\n', additional_kwargs={}, response_metadata={'is_blocked': False, 'safety_ratings': [], 'usage_metadata': {'prompt_token_count': 100, 'candidates_token_count': 189, 'total_token_count': 289, 'prompt_tokens_details': [{'modality': 1, 'token_count': 100}], 'candidates_tokens_details': [{'modality': 1, 'token_count': 189}], 'thoughts_token_count': 0, 'cached_content_token_count': 0, 'cache_tokens_details': []}, 'finish_reason': 'STOP', 'avg_logprobs': -0.15488421727740576, 'model_name': 'gemini-2.0-flash-lite-001'}, id='run--f9949c7a-4dfc-4392-9ddf-42dd08e2310b-0', usage_metadata={'input_tokens': 100, 'output_tokens': 189, 'total_tokens': 289, 'input_token_details': {'cache_read': 0}})],\n",
       " 'session_id': 'user_nalinthorn1'}"
      ]
     },
     "execution_count": 13,
     "metadata": {},
     "output_type": "execute_result"
    }
   ],
   "source": [
    "## Invocation\n",
    "graph_builder.invoke({'messages':\"ສະບາຍດີ,ຂ້ອຍຊື່ ນາລິນທອນ, ຂ້ອຍຮູ້ສືກຕື່ນເຕັນຫລາຍມື້ນີ້ທີ່ຈະໄດ້ມາ share ການສ້າງ AI Agent ກັບທຸກຄນທີ່ຢູ່ໃນ ງານ Google I/O\",\"session_id\":\"user_nalinthorn1\"})\n"
   ]
  },
  {
   "cell_type": "code",
   "execution_count": 14,
   "metadata": {},
   "outputs": [
    {
     "data": {
      "text/plain": [
       "{'messages': [HumanMessage(content='ເຈົ້າຈື່ຂ້ອຍໄດ້ບໍ່ ຂ້ອຍແມ່ນໃຜ', additional_kwargs={}, response_metadata={}, id='ce050210-80ff-4e4b-b872-94dc40f8091e'),\n",
       "  AIMessage(content='ແມ່ນແລ້ວ, ຂ້ອຍຈື່ເຈົ້າໄດ້! ເຈົ້າແມ່ນ ນາລິນທອນ, ແລະເຈົ້າກໍາລັງຈະ share ກ່ຽວກັບການສ້າງ AI Agent ໃນງານ Google I/O ມື້ນີ້. 😊\\n', additional_kwargs={}, response_metadata={'is_blocked': False, 'safety_ratings': [], 'usage_metadata': {'prompt_token_count': 318, 'candidates_token_count': 101, 'total_token_count': 419, 'prompt_tokens_details': [{'modality': 1, 'token_count': 318}], 'candidates_tokens_details': [{'modality': 1, 'token_count': 101}], 'thoughts_token_count': 0, 'cached_content_token_count': 0, 'cache_tokens_details': []}, 'finish_reason': 'STOP', 'avg_logprobs': -0.11729544460183323, 'model_name': 'gemini-2.0-flash-lite-001'}, id='run--dbf64ff1-c15b-4b5b-ab1c-0bc1f749be1f-0', usage_metadata={'input_tokens': 318, 'output_tokens': 101, 'total_tokens': 419, 'input_token_details': {'cache_read': 0}})],\n",
       " 'session_id': 'user_nalinthorn1'}"
      ]
     },
     "execution_count": 14,
     "metadata": {},
     "output_type": "execute_result"
    }
   ],
   "source": [
    "graph_builder.invoke({'messages':\"ເຈົ້າຈື່ຂ້ອຍໄດ້ບໍ່ ຂ້ອຍແມ່ນໃຜ\",\"session_id\":\"user_nalinthorn1\"})"
   ]
  },
  {
   "cell_type": "code",
   "execution_count": 15,
   "metadata": {},
   "outputs": [
    {
     "data": {
      "text/plain": [
       "{'messages': [HumanMessage(content='ເຈົ້າຈື່ຂ້ອຍໄດ້ບໍ່ ຂ້ອຍແມ່ນໃຜ', additional_kwargs={}, response_metadata={}, id='5216cc9e-873d-49cf-b7f3-ea23fd909b7b'),\n",
       "  AIMessage(content='ຂ້ອຍບໍ່ຮູ້ວ່າເຈົ້າແມ່ນໃຜ. ຂ້ອຍເປັນແບບຈໍາລອງພາສາຂະໜາດໃຫຍ່, ທີ່ຝຶກອົບຮົມໂດຍ Google. ຂ້ອຍບໍ່ມີຄວາມຊົງຈໍາກ່ຽວກັບການສົນທະນາກ່ອນໜ້າ. ຖ້າເຈົ້າຕ້ອງການໃຫ້ຂ້ອຍຊ່ວຍ, ບອກຂ້ອຍວ່າເຈົ້າຕ້ອງການຫຍັງ.', additional_kwargs={}, response_metadata={'is_blocked': False, 'safety_ratings': [], 'usage_metadata': {'prompt_token_count': 29, 'candidates_token_count': 176, 'total_token_count': 205, 'prompt_tokens_details': [{'modality': 1, 'token_count': 29}], 'candidates_tokens_details': [{'modality': 1, 'token_count': 176}], 'thoughts_token_count': 0, 'cached_content_token_count': 0, 'cache_tokens_details': []}, 'finish_reason': 'STOP', 'avg_logprobs': -0.10362873294136742, 'model_name': 'gemini-2.0-flash-lite-001'}, id='run--2a0ced00-24d8-4a31-8426-89c299e8edf5-0', usage_metadata={'input_tokens': 29, 'output_tokens': 176, 'total_tokens': 205, 'input_token_details': {'cache_read': 0}})],\n",
       " 'session_id': 'user_nalinthorn2'}"
      ]
     },
     "execution_count": 15,
     "metadata": {},
     "output_type": "execute_result"
    }
   ],
   "source": [
    "graph_builder.invoke({'messages':\"ເຈົ້າຈື່ຂ້ອຍໄດ້ບໍ່ ຂ້ອຍແມ່ນໃຜ\",\"session_id\":\"user_nalinthorn2\"})"
   ]
  },
  {
   "cell_type": "markdown",
   "metadata": {},
   "source": [
    "#### Streaming The responses"
   ]
  },
  {
   "cell_type": "code",
   "execution_count": 16,
   "metadata": {},
   "outputs": [
    {
     "name": "stdout",
     "output_type": "stream",
     "text": [
      "{'Chatbot': {'messages': [AIMessage(content='ສະບາຍດີ ນາລິນທອນ! ຍິນດີຕ້ອນຮັບສູ່ Google I/O! ຍິນດີທີ່ໄດ້ຮັບຟັງວ່າທ່ານຕື່ນເຕັ້ນທີ່ຈະມາແບ່ງປັນຄວາມຮູ້ເລື່ອງການສ້າງ AI Agent ກັບພວກເຮົາທຸກຄົນ. ຫວັງວ່າທ່ານຈະມີການນຳສະເໜີທີ່ດີ ແລະປະສົບຜົນສຳເລັດ! ຂໍໃຫ້ທຸກຄົນທີ່ມາຮ່ວມງານໄດ້ຮັບປະໂຫຍດຈາກຄວາມຮູ້ທີ່ທ່ານຈະແບ່ງປັນ. ຂໍໃຫ້ມີມື້ດີ!\\n', additional_kwargs={}, response_metadata={'is_blocked': False, 'safety_ratings': [], 'usage_metadata': {'prompt_token_count': 100, 'candidates_token_count': 254, 'total_token_count': 354, 'prompt_tokens_details': [{'modality': 1, 'token_count': 100}], 'candidates_tokens_details': [{'modality': 1, 'token_count': 254}], 'thoughts_token_count': 0, 'cached_content_token_count': 0, 'cache_tokens_details': []}, 'finish_reason': 'STOP', 'avg_logprobs': -0.16207152839720718, 'model_name': 'gemini-2.0-flash-lite-001'}, id='run--e6ef2cc3-6094-40d9-9c8e-f0ccf1e100c6-0', usage_metadata={'input_tokens': 100, 'output_tokens': 254, 'total_tokens': 354, 'input_token_details': {'cache_read': 0}})]}}\n"
     ]
    }
   ],
   "source": [
    "for event in graph_builder.stream({'messages':\"ສະບາຍດີ,ຂ້ອຍຊື່ ນາລິນທອນ, ຂ້ອຍຮູ້ສືກຕື່ນເຕັນຫລາຍມື້ນີ້ທີ່ຈະໄດ້ມາ share ການສ້າງ AI Agent ກັບທຸກຄນທີ່ຢູ່ໃນ ງານ Google I/O\",\"session_id\":\"user_guest\"}):\n",
    "    print(event)"
   ]
  },
  {
   "cell_type": "code",
   "execution_count": 17,
   "metadata": {},
   "outputs": [
    {
     "name": "stdout",
     "output_type": "stream",
     "text": [
      "{'Chatbot': {'messages': [AIMessage(content='ແມ່ນແລ້ວ! ຂ້ອຍຈື່ເຈົ້າໄດ້. ເຈົ້າແມ່ນ **ນາລິນທອນ** ທີ່ກຳລັງຈະມາ share ຄວາມຮູ້ເລື່ອງການສ້າງ AI Agent ຢູ່ Google I/O. ຖ້າຂ້ອຍເຂົ້າໃຈຖືກ, ຖືກຕ້ອງບໍ່?\\n', additional_kwargs={}, response_metadata={'is_blocked': False, 'safety_ratings': [], 'usage_metadata': {'prompt_token_count': 383, 'candidates_token_count': 124, 'total_token_count': 507, 'prompt_tokens_details': [{'modality': 1, 'token_count': 383}], 'candidates_tokens_details': [{'modality': 1, 'token_count': 124}], 'thoughts_token_count': 0, 'cached_content_token_count': 0, 'cache_tokens_details': []}, 'finish_reason': 'STOP', 'avg_logprobs': -0.1652400262894169, 'model_name': 'gemini-2.0-flash-lite-001'}, id='run--fd1ae919-a70f-4c25-99b9-d51cf269bcb3-0', usage_metadata={'input_tokens': 383, 'output_tokens': 124, 'total_tokens': 507, 'input_token_details': {'cache_read': 0}})]}}\n"
     ]
    }
   ],
   "source": [
    "for event in graph_builder.stream({'messages':\"ເຈົ້າຈື່ຂ້ອຍໄດ້ບໍ່ ຂ້ອຍແມ່ນໃຜ\",\"session_id\":\"user_guest\"}):\n",
    "    print(event)"
   ]
  }
 ],
 "metadata": {
  "kernelspec": {
   "display_name": ".venv",
   "language": "python",
   "name": "python3"
  },
  "language_info": {
   "codemirror_mode": {
    "name": "ipython",
    "version": 3
   },
   "file_extension": ".py",
   "mimetype": "text/x-python",
   "name": "python",
   "nbconvert_exporter": "python",
   "pygments_lexer": "ipython3",
   "version": "3.13.3"
  }
 },
 "nbformat": 4,
 "nbformat_minor": 2
}
