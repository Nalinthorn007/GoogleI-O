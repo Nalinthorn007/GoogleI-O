{
 "cells": [
  {
   "cell_type": "markdown",
   "metadata": {},
   "source": [
    "# ການສ້າງ Simple Chatbot ໂດຍໃຊ້ LangGraph "
   ]
  },
  {
   "cell_type": "markdown",
   "metadata": {},
   "source": [
    "**LangGraph ແມ່ນຫຍັງ ?**\n",
    "    - LangGraph ແມ່ນ framework ທີ່ອອກແບບມາສຳຫຼັບການສ້າງ AI applications ທີ່ມີຄວາມຊັບຊ້ອນ ໂດຍໃຊ້ແນວຄິດ graph-based architecture. ມັນເປັນສ່ວນໜຶ່ງຂອງ LangChain ecosystem ທີ່ຊ່ວຍໃຫ້ນັກພັດທະນາສາມາດສ້າງ workflows ທີ່ມີຫຼາຍຂັ້ນຕອນ ແລະ ສາມາດຕັດສິນໃຈໄດ້ຕາມສະຖານະການ.\n",
    "\n",
    "**ຫນ້າທີ່ຫຼັກຂອງ LangGraph**\n",
    "  1. ການຄຸ້ມຄອງສະຖານະ - ຕິດຕາມແລະຈັດການສະຖານະຂອງການສົນທະນາ ແລະ ຂໍ້ມູນຕ່າງໆໃນລະຫວ່າງການປະມວນຜົນ\n",
    "  2. ການສ້າງ Multi-Agent Systems - ອະນຸຍາດໃຫ້ສ້າງ AI agents ຫຼາຍໂຕທີ່ເຮັດວຽກຮ່ວມກັນແບບປະສານງານ\n",
    "  3. ການຄວບຄຸມ Workflow - ກຳນົດລຳດັບການເຮັດວຽກ ແລະ ເງື່ອນໄຂໃນການຕັດສິນໃຈວ່າຈະໄປຂັ້ນຕອນໃດຕໍ່ໄປ\n",
    "  4. ການເຊື່ອມຕໍ່ເຄື່ອງມື - ສາມາດເຊື່ອມຕໍ່ກັບ APIs, databases, ແລະ external tools ຕ່າງໆໄດ້\n",
    "  5. ການຈັດການຂໍ້ຜິດພາດ - ຄຸ້ມຄອງສະຖານະການທີ່ເກີດຂໍ້ຜິດພາດ ແລະ ມີກົນໄກ retry ຫຼື fallback\n",
    "  6. ການປັບແຕ່ງການຕອບສະໜອງ - ອະນຸຍາດໃຫ້ປັບແຕ່ງພຶດຕິກຳຂອງ AI ຕາມສະຖານະການແລະບໍລິບົດທີ່ແຕກຕ່າງກັນ\n",
    "\n",
    "**ChatMessageHistory ?**\n",
    " - ເປັນ class ທີ່ໃຊ້ຈັດເກັບປະຫວັດການສົນທະນາ\n",
    " - ເກັບຂໍ້ມູນໃນ memory (RAM) ຊົ່ວຄາວ\n",
    " - ມີ methods ພື້ນຖານສຳຫຼັບເພີ່ມ, ອ່ານ, ແລະ ລຶບຂໍ້ຄວາມ\n",
    " - ຂໍ້ມູນຈະຫາຍໄປເມື່ອປິດໂປຣແກຣມ\n",
    "\n",
    " **BaseChatMessageHistory ?** \n",
    " - ເປັນ abstract base class ທີ່ເປັນແມ່ແບບໃນການສ້າງ custom message history class\n",
    "\n",
    " **RunnableWithMessageHistory ?** \n",
    "  - ເປັນ wrapper class ທີ່ເພີ່ມຄຸນສົມບັດເກັບ message history ໃຫ້ກັບ chains\n",
    "  - ເຊື່ອມຕໍ່ LangChain components ກັບ message history\n",
    "  - ຈັດການ session IDs ແລະ conversation contexts\n",
    "  - ສາມາດໃຊ້ກັບ message history ປະເພດໃດກໍໄດ້\n",
    "  - ຊ່ວຍໃຫ້ chains ຈົດຈຳການສົນທະນາກ່ອນຫນ້າໄດ້\n",
    "    \n",
    "**Reducers ໃນ LangGraph ?**\n",
    "- Reducers: ໃນ LangGraph ເປັນ functions ທີ່ກຳນົດວິທີການອັບເດດ state ເມື່ອມີການປ່ຽນແປງຈາກ nodes ຕ່າງໆ. ແທນທີ່ຈະ overwrite ຂໍ້ມູນເກົ່າ, reducers ຊ່ວຍໃຫ້ເຮົາ merge ຫຼື combine ຂໍ້ມູນໃໝ່ເຂົ້າກັບຂໍ້ມູນເກົ່າໄດ້. \n",
    "\n",
    "**TypedDict ?**\n",
    "- TypedDict: ໃຊ້ສຳລັບກຳນົດໂຄ້ງສ້າງຂອງ dictionary ແລະ ລະບຸ ປະເພດຂໍ້ມູນ (data types) ຂອງແຕ່ລະ Key ເພື່ອຊ່ວຍໃຫ້ code ມີຄວາມປອດໄພ ແລະ ອ່ານເຂົ້າໃຈງ່າຍຂຶ້ນ\n",
    "\n",
    "**Annotated ?**\n",
    "- Annotated: ໃຊ້ເພື່ອເພີ່ມ metadata ໃຫ້ກັບ type hints\n",
    "    1. ສາມາດປະກອບຂໍ້ມູນເພີ່ມເຕີມໃສ່ໃນການກຳນົດປະເພດ\n",
    "    2. ໃນ LangChain ມັກໃຊ້ກັບ state management\n",
    "    3. ຊ່ວຍໃຫ້ສາມາດກຳນົດພຶດຕິກຳພິເສດຂອງຂໍ້ມູນ\n",
    "    ```\n",
    "    ຕົວຢ່າງ ທົ່ວໄປ:\n",
    "        messages: Annotated[str, \"ສະບາຍດີ\"] \n",
    "    ```\n",
    "\n",
    "    ```\n",
    "    ຕົວຢ່າງ ໃນ LangGraph - ເພີ່ມ reducer:\n",
    "        messages: Annotated[list[int], add]\n",
    "    ```\n",
    "- **add:** (operator.add) ແມ່ນ Python built-in function ສຳລັບການ \"ບວກ\" ຫຼື \"ລວມ\"\n",
    "- **add_messages:** ແມ່ນ  reducer ສຳລັບຈັດການ conversation messages ໂດຍການ Merge ຂໍ້ຄວາມໃຫມ່ເຂົ້າໃນ State\n",
    "- **StateGraph:** ແມ່ນ Main class ສຳລັບສ້າງ LangGraph workflow\n",
    "- **START:** ແມ່ນ Special constant ທີ່ໝາຍເຖິງຈຸດເລີ່ມຕົ້ນຂອງ graph\n",
    "- **END:** ແມ່ນ Special constant ທີ່ໝາຍເຖິງຈຸດສິ້ນສຸດຂອງ graph\n",
    "\n",
    "     "
   ]
  },
  {
   "cell_type": "code",
   "execution_count": 1,
   "metadata": {},
   "outputs": [],
   "source": [
    "from typing_extensions import TypedDict\n",
    "from langgraph.graph import StateGraph, START, END\n",
    "\n",
    "# reducers\n",
    "from typing import Annotated\n",
    "from langgraph.graph.message import add_messages\n",
    "from langchain_community.chat_message_histories import ChatMessageHistory\n",
    "from langchain_core.chat_history import BaseChatMessageHistory\n",
    "from langchain_core.runnables.history import RunnableWithMessageHistory\n",
    "from langchain_core.messages import HumanMessage\n",
    "\n",
    "import os\n",
    "from dotenv import load_dotenv\n",
    "load_dotenv()\n",
    "\n",
    "os.environ[\"GROQ_API_KEY\"]=os.getenv(\"GROQ_API_KEY\")\n",
    "os.environ[\"OPEN_ROUTER\"]=os.getenv(\"OPEN_ROUTER\")"
   ]
  },
  {
   "cell_type": "code",
   "execution_count": 2,
   "metadata": {},
   "outputs": [],
   "source": [
    "class State(TypedDict):\n",
    "    messages:Annotated[list,add_messages]\n",
    "    session_id: str "
   ]
  },
  {
   "cell_type": "markdown",
   "metadata": {},
   "source": [
    "# Optional using Antropic\n",
    "```python\n",
    "    from langchain_anthropic import ChatAnthropic \n",
    "    llm = ChatAnthropic(model=\"claude-3-7-sonnet-20250219\",api_key=os.getenv(\"CLAUDE_API_KEY\"))   \n",
    "    response = llm.invoke(\"Hello\")\n",
    "    print(response)\n",
    "```\n",
    "\n",
    "# Optional using API endpoint Open Router to load model Gemini\n",
    "\n",
    "```python\n",
    "    from langchain.chat_models import ChatOpenAI\n",
    "\n",
    "    llm = ChatOpenAI(\n",
    "    model_name=\"google/gemini-2.0-flash-exp:free\",\n",
    "    openai_api_base=\"https://openrouter.ai/api/v1\",\n",
    "    openai_api_key=os.getenv(\"OPEN_ROUTER\"),\n",
    "    )\n",
    "    response = llm.invoke(\"Hello, how are you?\")\n",
    "    print(response.content)\n",
    "```"
   ]
  },
  {
   "cell_type": "code",
   "execution_count": 4,
   "metadata": {},
   "outputs": [
    {
     "data": {
      "text/plain": [
       "AIMessage(content='ສະບາຍດີ ນາລິນທອນ! ມັນດີໃຈຫຼາຍທີ່ໄດ້ຮູ້ວ່າເຈົ້າມີຄວາມສົນໃຈໃນການຮຽນຮູ້ທາງດ້ານ AI ແລະ ຕ້ອງການປະກອບສ່ວນໃນການພັດທະນາ AI ໃນປະເທດລາວ. ການນຳເອົາເຕັກໂນໂລຢີມາໃຊ້ໃນການແກ້ໄຂບັນຫາປະຈຳວັນແມ່ນມີຄວາມສຳຄັນຫຼາຍ ແລະ ສາມາດຊ່ວຍສ້າງຄວາມເຂັ້ມແຂງໃຫ້ກັບຊຸມຊົນທ້ອງຖິ່ນໄດ້.\\n\\nມີຫຼາຍວິທີທີ່ເຈົ້າສາມາດປະກອບສ່ວນໃນການພັດທະນາ AI ໃນປະເທດລາວໄດ້, ເຊັ່ນ:\\n\\n1. **ຮຽນຮູ້ທັກສະໃຫມ່ໆ**: ເຈົ້າສາມາດຮຽນຮູ້ທັກສະໃຫມ່ໆ ກ່ຽວກັບ AI, ເຊັ່ນ ການຮຽນຮູ້ເຄື່ອງຈັກ (Machine Learning), ການຮຽນຮູ້ເລິກ (Deep Learning), ການປະມວນຜົນພາສາທຳມະຊາດ (Natural Language Processing) ແລະ ອື່ນໆ.\\n2. **ເຂົ້າຮ່ວມໂຄງການ**: ເຈົ້າສາມາດເຂົ້າຮ່ວມໂຄງການທີ່ກ່ຽວຂ້ອງກັບ AI ໃນປະເທດລາວ, ເຊັ່ນ ໂຄງການພັດທະນາ AI ສຳລັບການແກ້ໄຂບັນຫາປະຈຳວັນ.\\n3. **ສ້າງຊຸມຊົນ**: ເຈົ້າສາມາດສ້າງຊຸມຊນທີ່ກ່ຽວຂ້ອງກັບ AI ໃນປະເທດລາວ, ເພື່ອໃຫ້ຜູ້ທີ່ສົນໃຈໃນການນຳເອົາເຕັກໂນໂລຢີມາໃຊ້ໃນການແກ້ໄຂບັນຫາປະຈຳວັນສາມາດມາຮ່ວມກັນ ແລະ ແລກປ່ຽນຄວາມຄິດເຫັນ.\\n4. **ປະກອບສ່ວນໃນການພັດທະນາໂຄງການ**: ເຈົ້າສາມາດປະກອບສ່ວນໃນການພັດທະນາໂຄງການທີ່ກ່ຽວຂ້ອງກັບ AI ໃນປະເທດລາວ, ເຊັ່ນ ໂຄງການພັດທະນາ AI ສຳລັບການແກ້ໄຂບັນຫາປະຈຳວັນ.\\n\\nຂ້ອຍຫວັງວ່າຂໍ້ມູນນີ້ຈະຊ່ວຍໃຫ້ເຈົ້າມີຄວາມເຂົ້າໃຈຫຼາຍຂຶ້ນກ່ຽວກັບວິທີທີ່ເຈົ້າສາມາດປະກອບສ່ວນໃນການພັດທະນາ AI ໃນປະເທດລາວໄດ້. ຖ້າເຈົ້າມີຄຳຖາມຫຼື ຕ້ອງການຄວາມຊ່ວຍເຫຼືອໃດໆ, ກະລຸນາອຍ່າລັງເລທີ່ຈະຖາມ.', additional_kwargs={}, response_metadata={'token_usage': {'completion_tokens': 733, 'prompt_tokens': 149, 'total_tokens': 882, 'completion_time': 1.829417355, 'prompt_time': 0.003298605, 'queue_time': 0.058348275, 'total_time': 1.83271596}, 'model_name': 'meta-llama/llama-4-maverick-17b-128e-instruct', 'system_fingerprint': 'fp_c527aa4474', 'service_tier': 'on_demand', 'finish_reason': 'stop', 'logprobs': None}, id='run--87a3c8ed-d21b-469b-9f9e-7bd0a16fa65a-0', usage_metadata={'input_tokens': 149, 'output_tokens': 733, 'total_tokens': 882})"
      ]
     },
     "execution_count": 4,
     "metadata": {},
     "output_type": "execute_result"
    }
   ],
   "source": [
    "# using Groq service to load model\n",
    "from langchain_groq import ChatGroq\n",
    "llm_groq=ChatGroq(model=\"meta-llama/llama-4-maverick-17b-128e-instruct\")\n",
    "llm_groq.invoke(\"ສະບາຍດີ ຂ້ອຍຊື່ ນາລິນທອນ ແລະ ຂ້ອຍກໍມັກຮຽນຮູ້ທາງດ້ານ AI ເພື່ອປະກອບສ່ວນໃນການພັດທະນາ AI ໃນປະເທດລາວໃຫ້ມີຄວາມຫນ້າສົນໃຈ ແລະ ຢາກຊ່ວຍສ້າງຄວາມເຂັ້ມແຂງໃຫ້ກັບຊຸມຊົນທ້ອງຖິ່ນໂດຍການນຳເອົາເຕັກໂນໂລຢີມາໃຊ້ໃນການແກ້ໄຂບັນຫາປະຈຳວັນ\")"
   ]
  },
  {
   "cell_type": "code",
   "execution_count": 5,
   "metadata": {},
   "outputs": [],
   "source": [
    "store = {}\n",
    "\n",
    "def get_session_history(session_id: str) -> BaseChatMessageHistory:\n",
    "    if session_id not in store:\n",
    "        store[session_id] = ChatMessageHistory()\n",
    "    return store[session_id]\n",
    "\n",
    "with_message_history = RunnableWithMessageHistory(\n",
    "    llm_groq,\n",
    "    get_session_history\n",
    ")"
   ]
  },
  {
   "cell_type": "markdown",
   "metadata": {},
   "source": [
    "### ເຮົາຈະເລີ່ມໃນການສ້າງ Nodes"
   ]
  },
  {
   "cell_type": "code",
   "execution_count": 6,
   "metadata": {},
   "outputs": [],
   "source": [
    "def bot(state:State):\n",
    "\n",
    "    messages = state[\"messages\"]\n",
    "\n",
    "    session_id = state.get(\"session_id\", \"default_session\")\n",
    "\n",
    "    response = with_message_history.invoke(\n",
    "        {\"messages\": messages},\n",
    "        config={\"configurable\": {\"session_id\": session_id}}\n",
    "    )\n",
    "\n",
    "    return {\"messages\":[response]}"
   ]
  },
  {
   "cell_type": "code",
   "execution_count": 7,
   "metadata": {},
   "outputs": [
    {
     "data": {
      "image/png": "[encoded data removed]",
      "text/plain": [
       "<IPython.core.display.Image object>"
      ]
     },
     "metadata": {},
     "output_type": "display_data"
    }
   ],
   "source": [
    "graph=StateGraph(State)\n",
    "\n",
    "## node\n",
    "graph.add_node(\"Chatbot\",bot)\n",
    "\n",
    "## Edges\n",
    "graph.add_edge(START,\"Chatbot\")\n",
    "graph.add_edge(\"Chatbot\",END)\n",
    "\n",
    "\n",
    "graph_builder=graph.compile()\n",
    "\n",
    "\n",
    "## Display\n",
    "from IPython.display import Image, display\n",
    "display(Image(graph_builder.get_graph().draw_mermaid_png()))"
   ]
  },
  {
   "cell_type": "markdown",
   "metadata": {},
   "source": [
    "**ຄວາມແຕກຕ່າງລະຫວ່າງ .invoke() ແລະ .stream():**\n",
    "\n",
    "<strong>invoke() method:<strong>\n",
    "\n",
    " - ການດຳເນີນງານ: ເຮັດວຽກແບບ synchronous (ລໍຖ້າໃຫ້ ສຳເລັດ)\n",
    " - ຜົນລັບ: ໄດ້ຮັບຜົນລັບທັງໝົດພ້ອມກັນຫຼັງຈາກປະມວນຜົນສຳເລັດແລ້ວ\n",
    " - ຄວາມໄວ: ຕ້ອງລໍຖ້າໃຫ້ທຸກຂັ້ນຕອນສຳເລັດກ່ອນຈະເຫັນຜົນ\n",
    " - ການນຳໃຊ້: ເໝາະສຳຫຼັບງານທີ່ຕ້ອງການຜົນລັບຄັ້ງດຽວ\n",
    "\n",
    "<strong>stream() method:<strong>\n",
    "\n",
    " - ການດຳເນີນງານ: ເຮັດວຽກແບບ streaming (ສົ່ງຜົນລັບແບບຕໍ່ເນື່ອງ)\n",
    " - ຜົນລັບ: ໄດ້ຮັບຜົນລັບແບບ real-time ຕາມແຕ່ລະຂັ້ນຕອນ\n",
    " - ຄວາມໄວ: ເຫັນຜົນທັນທີຢູ່ແຕ່ລະຂັ້ນຕອນ\n",
    " - ການນຳໃຊ້: ເໝາະສຳຫຼັບການຕິດຕາມ progress ຫຼື debugging\n",
    "\n",
    "<strong>ບໍລິບົດການນຳໃຊ້:<strong>\n",
    "\n",
    " - invoke() → ເມື່ອຕ້ອງການຜົນລັບສຸດທ້າຍເທົ່ານັ້ນ\n",
    " - stream() → ເມື່ອຕ້ອງການເຫັນຂະບວນການປະມວນຜົນ ຫຼື ແກ້ໄຂບັນຫາ\n",
    "\n",
    "<strong>ປະສິດທິພາບ:<strong>\n",
    "\n",
    " - invoke() → ປະຫຍັດ memory ແລະ bandwidth\n",
    " - stream() → ໃຫ້ຄວາມຮູ້ສຶກວ່າມີການຕອບສະໜອງໄວກວ່າ"
   ]
  },
  {
   "cell_type": "markdown",
   "metadata": {},
   "source": [
    "#### Invoke responses"
   ]
  },
  {
   "cell_type": "code",
   "execution_count": 8,
   "metadata": {},
   "outputs": [
    {
     "data": {
      "text/plain": [
       "{'messages': [HumanMessage(content='ສະບາຍດີ,ຂ້ອຍຊື່ ນາລິນທອນ, ຂ້ອຍຮູ້ສືກຕື່ນເຕັນຫລາຍມື້ນີ້ທີ່ຈະໄດ້ມາ share ການສ້າງ AI Agent ກັບທຸກຄນທີ່ຢູ່ໃນ ງານ Google I/O', additional_kwargs={}, response_metadata={}, id='b836721b-6b97-402b-abbc-3e000fd179a0'),\n",
       "  AIMessage(content='ສະບາຍດີ ນາລິນທອນ! ມັນດີໃຈທີ່ໄດ້ຮູ້ວ່າທ່ານກຳລັງຕື່ນເຕັນໃນການແບ່ງປັນຄວາມຮູ້ກ່ຽວກັບການສ້າງ AI Agent ໃນງານ Google I/O. ງານນີ້ເປັນກິດຈະກຳທີ່ສຳຄັນທີ່ຮວບຮວມຜູ້ທີ່ມີຄວາມສົນໃຈໃນການພັດທະນາເຕັກໂນໂລຢີ ແລະ ນະວັດຕະກຳໃໝ່ໆ.\\n\\nການແບ່ງປັນຄວາມຮູ້ກ່ຽວກັບການສ້າງ AI Agent ແມ່ນຫົວຂໍ້ທີ່ໜ້າສົນໃຈຫຼາຍ ເນື່ອງຈາກ AI Agent ມີຄວາມສາມາດໃນການຊ່ວຍເຫຼືອໃນຫຼາຍດ້ານ ເຊັ່ນ: ການບໍລິການລູກຄ້າ, ການຈັດການຂໍ້ມູນ, ແລະອື່ນໆ. ການນຳໃຊ້ AI Agent ຍັງສາມາດຊ່ວຍເພີ່ມປະສິດທິພາບ ແລະ ຄວາມສະດວກໃນການເຮັດວຽກ.\\n\\nຖ້າທ່ານກະກທ້ອງໃຈທີ່ຈະແບ່ງປັນຄວາມຮູ້ຂອງທ່ານ, ຂ້າພະເຈົ້າຫວັງວ່າທ່ານຈະມີປະສົບການທີ່ດີໃນການແລກປ່ຽນຄວາມຄິດເຫັນ ແລະ ຄວາມຮູ້ກັບຜູ້ເຂົ້າຮ່ວມຄົນອື່ນໆໃນງານ Google I/O ນີ້. ຂໍໃຫ້ທ່ານມີຄວາມສຸກ ແລະ ໄດ້ຮັບຄວາມຮູ້ໃໝ່ໆ ໃນງານນີ້!', additional_kwargs={}, response_metadata={'token_usage': {'completion_tokens': 393, 'prompt_tokens': 84, 'total_tokens': 477, 'completion_time': 1.6151610490000001, 'prompt_time': 0.002421162, 'queue_time': 0.060885738, 'total_time': 1.617582211}, 'model_name': 'meta-llama/llama-4-maverick-17b-128e-instruct', 'system_fingerprint': 'fp_c527aa4474', 'service_tier': 'on_demand', 'finish_reason': 'stop', 'logprobs': None}, id='run--55b84d45-f051-4efa-93be-7d4613d960c7-0', usage_metadata={'input_tokens': 84, 'output_tokens': 393, 'total_tokens': 477})],\n",
       " 'session_id': 'user_nalinthorn'}"
      ]
     },
     "execution_count": 8,
     "metadata": {},
     "output_type": "execute_result"
    }
   ],
   "source": [
    "## Invocation\n",
    "graph_builder.invoke({'messages':\"ສະບາຍດີ,ຂ້ອຍຊື່ ນາລິນທອນ, ຂ້ອຍຮູ້ສືກຕື່ນເຕັນຫລາຍມື້ນີ້ທີ່ຈະໄດ້ມາ share ການສ້າງ AI Agent ກັບທຸກຄນທີ່ຢູ່ໃນ ງານ Google I/O\",\"session_id\":\"user_nalinthorn\"})\n"
   ]
  },
  {
   "cell_type": "code",
   "execution_count": 9,
   "metadata": {},
   "outputs": [
    {
     "data": {
      "text/plain": [
       "{'messages': [HumanMessage(content='ເຈົ້າຈື່ຂ້ອຍໄດ້ບໍ່ ຂ້ອຍແມ່ນໃຜ', additional_kwargs={}, response_metadata={}, id='6cb4e33a-5649-455a-9bce-2bf1d065b095'),\n",
       "  AIMessage(content='ເຈົ້າບອກວ່າເຈົ້າຊື່ ນາລິນທອນ ແລະ ເຈົ້າກຳລັງຕື່ນເຕັນທີ່ຈະແບ່ງປັນຄວາມຮູ້ກ່ຽວກັບການສ້າງ AI Agent ໃນງານ Google I/O. ຂ້ອຍຈື່ແລ້ວ! ນາລິນທອນ, ເຈົ້າເປັນຄົນທີ່ມີຄວາມສົນໃຈໃນການພັດທະນາເຕັກໂນໂລຢີ ແລະ ນະວັດຕະກຳໃໝ່ໆ. ຖ້າເຈົ້າຕ້ອງການຄວາມຊ່ວຍເຫຼືອຫຍັງ, ຂ້ອຍຢູ່ທີ່ນີ້ເພື່ອຊ່ວຍເຈົ້າ!', additional_kwargs={}, response_metadata={'token_usage': {'completion_tokens': 166, 'prompt_tokens': 503, 'total_tokens': 669, 'completion_time': 0.394619054, 'prompt_time': 0.013337486, 'queue_time': 0.063356035, 'total_time': 0.40795654}, 'model_name': 'meta-llama/llama-4-maverick-17b-128e-instruct', 'system_fingerprint': 'fp_c527aa4474', 'service_tier': 'on_demand', 'finish_reason': 'stop', 'logprobs': None}, id='run--10658978-652e-4cbd-8807-8c7ca0c8147f-0', usage_metadata={'input_tokens': 503, 'output_tokens': 166, 'total_tokens': 669})],\n",
       " 'session_id': 'user_nalinthorn'}"
      ]
     },
     "execution_count": 9,
     "metadata": {},
     "output_type": "execute_result"
    }
   ],
   "source": [
    "graph_builder.invoke({'messages':\"ເຈົ້າຈື່ຂ້ອຍໄດ້ບໍ່ ຂ້ອຍແມ່ນໃຜ\",\"session_id\":\"user_nalinthorn\"})"
   ]
  },
  {
   "cell_type": "code",
   "execution_count": 10,
   "metadata": {},
   "outputs": [
    {
     "data": {
      "text/plain": [
       "{'messages': [HumanMessage(content='ເຈົ້າຈື່ຂ້ອຍໄດ້ບໍ່ ຂ້ອຍແມ່ນໃຜ', additional_kwargs={}, response_metadata={}, id='ee26b0cb-32c1-4c0d-9f07-15e999248f38'),\n",
       "  AIMessage(content='ຂ້ອຍເປັນຕົວແບບ AI ທີ່ມີຄວາມສາມາດໃນການສື່ສານຫຼາຍພາສາ, ແຕ່ຂ້ອຍບໍ່ມີຄວາມສາມາດໃນການຈື່ ຫຼື ຮັກສາຂໍ້ມູນສ່ວນຕົວກ່ຽວກັບບຸກຄົນໃດໜຶ່ງລະຫວ່າງການສົນທະນາ. ການສົນທະນາແຕ່ລະຄັ້ງທີ່ເຈົ້າເຫັນຂ້ອຍແມ່ນການສົນທະນາໃໝ່ ແລະ ຂ້ອຍເລີ່ມຕົ້ນການສົນທະນາໃໝ່ໂດຍບໍ່ມີຄວາມຊົງຈຳກ່ຽວກັບການສົນທະນາກ່ອນໜ້ານີ້. ຖ້າເຈົ້າຢາກຊື່ຫຼິ້ນ ຫຼື ບອກຂ້ອຍກ່ຽວກັບຕົວເຈົ້າເອງ, ຂ້ອຍຍິນດີທີ່ໄດ້ຮູ້ ແລະ ຊ່ວຍເຈົ້າຕອບຄຳຖາມຂອງເຈົ້າ.', additional_kwargs={}, response_metadata={'token_usage': {'completion_tokens': 238, 'prompt_tokens': 27, 'total_tokens': 265, 'completion_time': 0.906138552, 'prompt_time': 0.000779395, 'queue_time': 0.062734605, 'total_time': 0.906917947}, 'model_name': 'meta-llama/llama-4-maverick-17b-128e-instruct', 'system_fingerprint': 'fp_c527aa4474', 'service_tier': 'on_demand', 'finish_reason': 'stop', 'logprobs': None}, id='run--028765f4-0f3a-4de5-b68a-d8f3f628cfbd-0', usage_metadata={'input_tokens': 27, 'output_tokens': 238, 'total_tokens': 265})],\n",
       " 'session_id': 'user_nalinthorn1'}"
      ]
     },
     "execution_count": 10,
     "metadata": {},
     "output_type": "execute_result"
    }
   ],
   "source": [
    "graph_builder.invoke({'messages':\"ເຈົ້າຈື່ຂ້ອຍໄດ້ບໍ່ ຂ້ອຍແມ່ນໃຜ\",\"session_id\":\"user_nalinthorn1\"})"
   ]
  },
  {
   "cell_type": "markdown",
   "metadata": {},
   "source": [
    "#### Streaming The responses"
   ]
  },
  {
   "cell_type": "code",
   "execution_count": 11,
   "metadata": {},
   "outputs": [
    {
     "name": "stdout",
     "output_type": "stream",
     "text": [
      "{'Chatbot': {'messages': [AIMessage(content='ສະບາຍດີ ນາລິນທອນ! ມັນດີໃຈທີ່ໄດ້ຮູ້ວ່າທ່ານກຳລັງຕື່ນເຕັນໃນການແບ່ງປັນຄວາມຮູ້ກ່ຽວກັບການສ້າງ AI Agent ໃນງານ Google I/O. ງານນີ້ເປັນກິດຈະກຳທີ່ສຳຄັນທີ່ຮວບຮວມຜູ້ທີ່ມີຄວາມສົນໃຈໃນການພັດທະນາເຕັກໂນໂລຢີ ແລະ ນະວັດຕະກຳໃໝ່ໆ.\\n\\nການແບ່ງປັນຄວາມຮູ້ກ່ຽວກັບການສ້າງ AI Agent ແມ່ນຫົວຂໍ້ທີ່ໜ້າສົນໃຈຫຼາຍ, ໂດຍສະເພາະໃນຊ່ວງເວລາທີ່ເຕັກໂນໂລຢີ AI ກຳລັງພັດທະນາຢ່າງໄວວາ. ທ່ານສາມາດເລີ່ມຕົ້ນໂດຍການແບ່ງປັນຄວາມຄິດເຫັນ ຫຼື ປະສົບການຂອງທ່ານໃນການສ້າງ AI Agent, ບໍ່ວ່າຈະເປັນການເລືອກເຄື່ອງມື, ການອອກແບບ, ຫຼື ການປະຕິບັດໂຄງການ.\\n\\nຖ້າທ່ານຕ້ອງການຄວາມຊ່ວຍເຫຼືອຫຼືມີຄຳຖາມກ່ຽວກັບຫົວຂໍ້ນີ້, ກະລຸນາບອກຂ້ອຍໄດ້!', additional_kwargs={}, response_metadata={'token_usage': {'completion_tokens': 339, 'prompt_tokens': 84, 'total_tokens': 423, 'completion_time': 1.406051933, 'prompt_time': 0.002252476, 'queue_time': 0.059611794999999995, 'total_time': 1.4083044089999999}, 'model_name': 'meta-llama/llama-4-maverick-17b-128e-instruct', 'system_fingerprint': 'fp_c527aa4474', 'service_tier': 'on_demand', 'finish_reason': 'stop', 'logprobs': None}, id='run--a15b0d72-686a-4280-a2f1-06e55ee4fed5-0', usage_metadata={'input_tokens': 84, 'output_tokens': 339, 'total_tokens': 423})]}}\n"
     ]
    }
   ],
   "source": [
    "for event in graph_builder.stream({'messages':\"ສະບາຍດີ,ຂ້ອຍຊື່ ນາລິນທອນ, ຂ້ອຍຮູ້ສືກຕື່ນເຕັນຫລາຍມື້ນີ້ທີ່ຈະໄດ້ມາ share ການສ້າງ AI Agent ກັບທຸກຄນທີ່ຢູ່ໃນ ງານ Google I/O\",\"session_id\":\"user_guest\"}):\n",
    "    print(event)"
   ]
  },
  {
   "cell_type": "code",
   "execution_count": 12,
   "metadata": {},
   "outputs": [
    {
     "name": "stdout",
     "output_type": "stream",
     "text": [
      "{'Chatbot': {'messages': [AIMessage(content='ເຈົ້າບອກວ່າເຈົ້າຊື່ ນາລິນທອນ ແລະ ເຈົ້າກຳລັງຕື່ນເຕັນທີ່ຈະແບ່ງປັນຄວາມຮູ້ກ່ຽວກັບການສ້າງ AI Agent ໃນງານ Google I/O. ຂ້ອຍຈື່ແລ້ວ! ນາລິນທອນ, ເຈົ້າເປັນຄົນທີ່ມີຄວາມສົນໃຈໃນການພັດທະນາເຕັກໂນໂລຢີ ແລະ ນະວັດຕະກຳໃໝ່ໆ. ຖ້າເຈົ້າຕ້ອງການຄວາມຊ່ວຍເຫຼືອຫຍັງ, ຂ້ອຍຢູ່ທີ່ນີ້ເພື່ອຊ່ວຍເຈົ້າ!', additional_kwargs={}, response_metadata={'token_usage': {'completion_tokens': 166, 'prompt_tokens': 695, 'total_tokens': 861, 'completion_time': 0.207651993, 'prompt_time': 0.01768585, 'queue_time': 0.06173371, 'total_time': 0.225337843}, 'model_name': 'meta-llama/llama-4-maverick-17b-128e-instruct', 'system_fingerprint': 'fp_c527aa4474', 'service_tier': 'on_demand', 'finish_reason': 'stop', 'logprobs': None}, id='run--9fcfcd9e-df6b-44a3-84b7-3782ed204782-0', usage_metadata={'input_tokens': 695, 'output_tokens': 166, 'total_tokens': 861})]}}\n"
     ]
    }
   ],
   "source": [
    "for event in graph_builder.stream({'messages':\"ເຈົ້າຈື່ຂ້ອຍໄດ້ບໍ່ ຂ້ອຍແມ່ນໃຜ\",\"session_id\":\"user_nalinthorn\"}):\n",
    "    print(event)"
   ]
  }
 ],
 "metadata": {
  "kernelspec": {
   "display_name": ".venv",
   "language": "python",
   "name": "python3"
  },
  "language_info": {
   "codemirror_mode": {
    "name": "ipython",
    "version": 3
   },
   "file_extension": ".py",
   "mimetype": "text/x-python",
   "name": "python",
   "nbconvert_exporter": "python",
   "pygments_lexer": "ipython3",
   "version": "3.13.3"
  }
 },
 "nbformat": 4,
 "nbformat_minor": 2
}
