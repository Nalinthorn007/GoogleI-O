{
 "cells": [
  {
   "cell_type": "markdown",
   "metadata": {},
   "source": [
    "## ສ້າງ Chatbot ໂດຍໃຊ້ Multiple Tool ໂດຍໃຊ້ Langgraph\n",
    "\n",
    "**ArxivQueryRun ?**\n",
    "  - ເປັນ tool ສຳຫຼັບຄົ້ນຫາເອກະສານວິທະຍາສາດຈາກ arXiv\n",
    "  - arXiv = ຖານຂໍ້ມູນເອກະສານວິທະຍາສາດອອນລາຍ\n",
    "  - ໃຊ້ຄົ້ນຫາ research papers, preprints ໃນດ້ານຟີຊິກ, ຄະນິດສາດ, ຄອມພິວເຕີສາດ\n",
    "  - ສາມາດຄົ້ນຫາດ້ວຍຄຳສຳຄັນ, ຊື່ຜູ້ຂຽນ, ຫຼື ຫົວຂໍ້\n",
    "\n",
    "**WikipediaQueryRun ?**\n",
    "  - ເປັນ tool ສຳຫຼັບຄົ້ນຫາຂໍ້ມູນຈາກ Wikipedia\n",
    "  - ໃຫ້ຂໍ້ມູນທົ່ວໄປເກີ່ຍວກັບບຸກຄົນ, ສະຖານທີ່, ເຫດການ, ແນວຄວາມຄິດ\n",
    "  - ອ່ານງ່າຍກວ່າເອກະສານວິທະຍາສາດ\n",
    "\n",
    "**WikipediaAPIWrapper ?**\n",
    " - ເປັນ utility class ທີ່ຫໍ່ຫຸ້ມ Wikipedia API\n",
    " - ຈັດການການສື່ສານກັບ Wikipedia servers\n",
    " - ກຳນົດຄວາມຍາວຂອງຜົນລັບ, ພາສາ, ແລະ ຕົວເລືອກອື່ນໆ\n",
    " - ເຮັດໃຫ້ການໃຊ້ Wikipedia API ງ່າຍຂຶ້ນ\n",
    "\n",
    " **ArxivAPIWrapper ?** \n",
    " - ເປັນ utility class ທີ່ຫໍ່ຫຸ້ມ arXiv API\n",
    " - ຈັດການການຄົ້ນຫາແລະການດຶງຂໍ້ມູນຈາກ arXiv\n",
    " - ກຳນົດຈຳນວນຜົນລັບ, ຟີລເຕີຂໍ້ມູນ\n",
    " - ຈັດຮູບແບບຜົນລັບໃຫ້ເໝາະສຳຫຼັບການນຳໃຊ້ "
   ]
  },
  {
   "cell_type": "code",
   "execution_count": null,
   "metadata": {},
   "outputs": [],
   "source": [
    "from langchain_community.tools import ArxivQueryRun,WikipediaQueryRun\n",
    "from langchain_community.utilities import WikipediaAPIWrapper,ArxivAPIWrapper\n",
    "from langchain_core.messages import HumanMessage\n",
    "from google.oauth2 import service_account\n",
    "from langchain_google_vertexai import ChatVertexAI\n",
    "from dotenv import load_dotenv\n",
    "load_dotenv() \n",
    "\n",
    "\n",
    "import os\n",
    "\n",
    "os.environ[\"TAVILY_API_KEY\"]=os.getenv(\"TAVILY_API_KEY\")\n",
    "\n",
    "# Optional\n",
    "# os.environ[\"GROQ_API_KEY\"]=os.getenv(\"GROQ_API_KEY\") \n"
   ]
  },
  {
   "cell_type": "code",
   "execution_count": 2,
   "metadata": {},
   "outputs": [
    {
     "name": "stdout",
     "output_type": "stream",
     "text": [
      "arxiv\n"
     ]
    }
   ],
   "source": [
    "api_wrapper_arxiv=ArxivAPIWrapper(top_k_results=2,doc_content_chars_max=1000)\n",
    "arxiv=ArxivQueryRun(api_wrapper=api_wrapper_arxiv)\n",
    "print(arxiv.name)"
   ]
  },
  {
   "cell_type": "code",
   "execution_count": 3,
   "metadata": {},
   "outputs": [
    {
     "data": {
      "text/plain": [
       "\"Published: 2024-07-22\\nTitle: Attention Is All You Need But You Don't Need All Of It For Inference of Large Language Models\\nAuthors: Georgy Tyukin, Gbetondji J-S Dovonon, Jean Kaddour, Pasquale Minervini\\nSummary: The inference demand for LLMs has skyrocketed in recent months, and serving\\nmodels with low latencies remains challenging due to the quadratic input length\\ncomplexity of the attention layers. In this work, we investigate the effect of\\ndropping MLP and attention layers at inference time on the performance of\\nLlama-v2 models. We find that dropping dreeper attention layers only marginally\\ndecreases performance but leads to the best speedups alongside dropping entire\\nlayers. For example, removing 33\\\\% of attention layers in a 13B Llama2 model\\nresults in a 1.8\\\\% drop in average performance over the OpenLLM benchmark. We\\nalso observe that skipping layers except the latter layers reduces performances\\nfor more layers skipped, except for skipping the attention layers.\\n\\nPublished: 2024-0\""
      ]
     },
     "execution_count": 3,
     "metadata": {},
     "output_type": "execute_result"
    }
   ],
   "source": [
    "arxiv.invoke(\"Attention iss all you need\")"
   ]
  },
  {
   "cell_type": "code",
   "execution_count": 4,
   "metadata": {},
   "outputs": [
    {
     "data": {
      "text/plain": [
       "'wikipedia'"
      ]
     },
     "execution_count": 4,
     "metadata": {},
     "output_type": "execute_result"
    }
   ],
   "source": [
    "api_wrapper_wiki=WikipediaAPIWrapper(top_k_results=2,doc_content_chars_max=1000)\n",
    "wiki=WikipediaQueryRun(api_wrapper=api_wrapper_wiki)\n",
    "wiki.name"
   ]
  },
  {
   "cell_type": "code",
   "execution_count": 5,
   "metadata": {},
   "outputs": [
    {
     "data": {
      "text/plain": [
       "'Page: Retrieval-augmented generation\\nSummary: Retrieval-augmented generation (RAG) is a technique that enables large language models (LLMs) to retrieve and incorporate new information. With RAG, LLMs do not respond to user queries until they refer to a specified set of documents. These documents supplement information from the LLM\\'s pre-existing training data. This allows LLMs to use domain-specific and/or updated information that is not available in the training data. For example, this helps LLM-based chatbots access internal company data or generate responses based on authoritative sources.\\nRAG improves large language models (LLMs) by incorporating information retrieval before generating responses. Unlike traditional LLMs that rely on static training data, RAG pulls relevant text from databases, uploaded documents, or web sources. According to Ars Technica, \"RAG is a way of improving LLM performance, in essence by blending the LLM process with a web search or other document look-up p'"
      ]
     },
     "execution_count": 5,
     "metadata": {},
     "output_type": "execute_result"
    }
   ],
   "source": [
    "wiki.invoke(\"What is RAG\")"
   ]
  },
  {
   "cell_type": "code",
   "execution_count": 6,
   "metadata": {},
   "outputs": [
    {
     "name": "stderr",
     "output_type": "stream",
     "text": [
      "C:\\Users\\Kenshin\\AppData\\Local\\Temp\\ipykernel_5376\\3584238.py:4: LangChainDeprecationWarning: The class `TavilySearchResults` was deprecated in LangChain 0.3.25 and will be removed in 1.0. An updated version of the class exists in the :class:`~langchain-tavily package and should be used instead. To use it run `pip install -U :class:`~langchain-tavily` and import as `from :class:`~langchain_tavily import TavilySearch``.\n",
      "  tavily = TavilySearchResults()\n"
     ]
    }
   ],
   "source": [
    "### Tavily Search Tool\n",
    "from langchain_community.tools.tavily_search import TavilySearchResults\n",
    "\n",
    "tavily = TavilySearchResults()"
   ]
  },
  {
   "cell_type": "code",
   "execution_count": 7,
   "metadata": {},
   "outputs": [
    {
     "data": {
      "text/plain": [
       "[{'title': 'Highlights from the Dialogues stage at I/O 2025 - Google Blog',\n",
       "  'url': 'https://blog.google/technology/developers/google-io-2025-dialogues-ai-quantum-storytelling/',\n",
       "  'content': \"Google I/O 2025's Dialogues stage showcased AI's impact on society.\\n   Discussions covered AI advancements, AGI, and quantum computing.\\n   Speakers included top Google leaders and outside visionaries.\\n   AI's role in science, storytelling, and autonomous driving was explored.\\n   Sustainability in AI development was also a key discussion point.\\n\\n Summaries were generated by Google AI. Generative AI is experimental. \\n\\nShare\\n\\nTwitterFacebookLinkedInMail\\n\\nCopy link [...] Last week, the Dialogues stage at Google I/O 2025 brought together Google leaders and visionaries like director Darren Aronofsky for conversations on the technological breakthroughs helping to shape society and our future. The talks explored AI innovations and some of the biggest opportunities and questions facing us today, from the frontiers of quantum computing to scientific advances to the evolution of storytelling. Take a look at what we discussed. [...] Press corner\\n   RSS feed\\n\\nSubscribe\\n\\nBreadcrumb\\n1.   \\n2.   Technology\\n3.   Developers\\n\\nHighlights from the Dialogues stage at I/O 2025\\n===============================================\\n\\nMay 28, 2025\\n\\n·\\n3 min read\\n\\nShare\\n\\nTwitterFacebookLinkedInMail\\n\\nCopy link\\n\\nOur I/O 2025 Dialogues hosted conversations at the intersection of AI, science, creativity, autonomous driving and more with Google leaders and other top thinkers.\",\n",
       "  'score': 0.8571119},\n",
       " {'title': 'Google I/O 2025: News and announcements',\n",
       "  'url': 'https://blog.google/technology/developers/google-io-2025-collection/',\n",
       "  'content': \"Image 2: A message from our CEOGoogle I/O 2025: From research to reality At our annual developer conference, we announced how we’re making AI even more helpful with Gemini. By Sundar Pichai- May 20, 2025 \\n   Image 3: Google DeepMindOur vision for building a universal AI assistant At Google I/O, we discussed how we're extending Gemini to become a world model. By Demis Hassabis- May 20, 2025 [...] Copy link\\n\\nI/O 2025\\n========\\n\\nMay 20, 2025 · 31 articles 20 May, 2025\\n\\narticles 31\\n\\n May 20, 2025 31 articles 20 May, 2025 \\n\\narticles 31\\n\\nAt Google I/O 2025, our annual developer conference, we shared how we’re using our cutting-edge technology to build products that are intelligent and personalized — and that can take action for you. [...] Image 4: Google DeepMindGemini 2.5: Our most intelligent models are getting even better At I/O 2025, we shared updates to our Gemini 2.5 model series and Deep Think, an experimental enhanced reasoning mode for 2.5 Pro. By Tulsee Doshi- May 20, 2025 \\n   Image 5: AI100 things we announced at I/O Learn more about the biggest announcements and launches from Google’s 2025 I/O developer conference. By Molly McHugh-Johnson- May 21, 2025\",\n",
       "  'score': 0.8235701},\n",
       " {'title': 'Google I/O 2025: All the Big Announcements You Need to Know',\n",
       "  'url': 'https://easyinsights.ai/blog/google-i-o-2025-all-the-big-announcements-you-need-to-know/',\n",
       "  'content': 'Held at the Shoreline Amphitheatre in Mountain View, the 2025 edition focused heavily on the future of artificial intelligence, personalization, and cross-device experiences. From the next generation of Gemini AI and the introduction of Project Astra to updates across Android 15, Wear OS 5, and spatial computing with Android XR, this year’s event showcased Google’s commitment to real-time, multimodal intelligence and seamless user interaction. [...] For marketers, product teams, and analytics professionals, Google I/O 2025 signals a new era of opportunities and challenges. From Gemini-powered search experiences to smarter ad tools and seamless cross-device experiences, there’s a lot to unpack.\\n\\nIn this blog, we’ll break down the most impactful announcements and explore what they mean for digital-first brands and data-driven growth strategies.\\n\\nJump ahead to: [...] Reading Time:  9 minutesImage 45: x ()\\nGoogle I/O is the company’s annual developer conference where it unveils its latest innovations across AI, Android, hardware, and developer tools. It’s a key moment for understanding where Google is heading—and how those shifts will impact the broader tech ecosystem.',\n",
       "  'score': 0.8232293},\n",
       " {'title': '100 things we announced at I/O - Google Blog',\n",
       "  'url': 'https://blog.google/technology/ai/google-io-2025-all-our-announcements/',\n",
       "  'content': 'Authors \\n           Sundar Pichai, CEO\\n           Demis Hassabis, CEO and Co-Founder, Google DeepMind\\n           Kent Walker, SVP\\n           James Manyika, SVP\\n           Ruth Porat, President & Chief Investment Officer\\n           See all\\n\\n   Feed\\n\\n   Press corner\\n   RSS feed\\n\\nSubscribe\\n\\nBreadcrumb\\n1.   \\n2.   Technology\\n3.   AI\\n\\n100 things we announced at I/O\\n==============================\\n\\nMay 21, 2025\\n\\n·\\n18 min read\\n\\nShare\\n\\nTwitterFacebookLinkedInMail\\n\\nCopy link [...] Yesterday at Google I/O, we shared how we’re taking the progress we’re making in AI and applying it across our products. Major upgrades are coming to our Gemini app, our generative AI tools and everything in between — including some truly incredible progress we’re making with our AI models (and new ways you can access them).\\n\\nHere’s a list of I/O 2025’s highlights — many of which you can try today!\\n\\nAsk anything with AI in Search\\n------------------------------ [...] Published Time: 2025-05-21T23:00:00+00:00\\n\\nGoogle I/O 2025: 100 things Google announced\\n\\n===============\\n\\nSkip to main content\\n\\nThe Keyword\\n\\n100 things we announced at I/O\\n\\nShare\\n\\nTwitterFacebookLinkedInMail\\n\\nCopy link\\n\\n   Home\\n    Product news \\n\\n Product news \\n        Android, Chrome & Play \\n           Android\\n           Chrome\\n           Chromebooks\\n           Google Play\\n           Wear OS\\n           See all',\n",
       "  'score': 0.79119295},\n",
       " {'title': 'Google I/O 2025: The top updates from Google Cloud',\n",
       "  'url': 'https://cloud.google.com/transform/google-io-2025-the-top-updates-from-google-cloud-ai',\n",
       "  'content': \"Contact sales\\n\\nGoogle Cloud\\n\\n# Google I/O 2025: Top Google Cloud updates\\n\\nMay 23, 2025\\n\\n##### Andrea Sanin\\n\\nEditor, Google Cloud\\n\\n##### Yana Lubell\\n\\nEditor, Google Cloud\\n\\n#### Updates from Google I/O offer businesses and developers new ways to bring AI into media creation, make coding easier, simplify application development, and improve AI application and agent deployment.\\n\\n##### Try Google Cloud\\n\\nStart building on Google Cloud with $300 in free credits and 20+ always free products. [...] We’ve also made enhancements that provide more robust, flexible tools and streamlined workflows for creating and managing AI agents. We launched new versions of the Agent Development Kit (ADK) for Python and Java developers. The new Agent Engine UI offers an intuitive Google Cloud console interface for easier agent management, deployment, and monitoring. And the Agent2Agent (A2A) protocol is being improved for more straightforward and secure communication between different agents. Check out the [...] Gmail now features a more personalized Smart Reply that learns from your past emails and files in Drive to suggest relevant responses. In Google Meet, you'll find real-time speech translation to facilitate more natural connection. Google Vids now includes AI avatars, allowing teams to efficiently create polished content like training videos and announcements by having an avatar deliver the message, which can make the creation process more efficient. Read more about these new AI capabilities.\",\n",
       "  'score': 0.79041743}]"
      ]
     },
     "execution_count": 7,
     "metadata": {},
     "output_type": "execute_result"
    }
   ],
   "source": [
    "tavily.invoke(\"summarize Google I/O 2025\")"
   ]
  },
  {
   "cell_type": "code",
   "execution_count": 8,
   "metadata": {},
   "outputs": [],
   "source": [
    "### Combine all the tools in the list\n",
    "\n",
    "tools=[arxiv,wiki,tavily]"
   ]
  },
  {
   "cell_type": "markdown",
   "metadata": {},
   "source": [
    "#### Optional\n",
    "```python\n",
    "from langchain_groq import ChatGroq\n",
    "\n",
    "llm=ChatGroq(model=\"qwen/qwen3-32b\")\n",
    "\n",
    "llm_with_tools=llm.bind_tools(tools)\n",
    "```"
   ]
  },
  {
   "cell_type": "code",
   "execution_count": 9,
   "metadata": {},
   "outputs": [
    {
     "name": "stdout",
     "output_type": "stream",
     "text": [
      "🤖 Response: Hello there! I'm doing quite well, thank you for asking. I'm ready and eager to help you with anything you need. How about yourself? How are you doing today?\n"
     ]
    }
   ],
   "source": [
    "## Initialize my LLM model\n",
    "\n",
    "# Configuration\n",
    "JSON_KEY_PATH = r\"C:\\Users\\Kenshin\\Desktop\\GoogleI-O\\key.json\" \n",
    "PROJECT_ID = os.getenv(\"GOOGLE_CLOUD_PROJECT\") \n",
    "GOOGLE_LOCATION= os.getenv(\"GOOGLE_LOCATION\")\n",
    "\n",
    "try:\n",
    "    # Load credentials\n",
    "    credentials = service_account.Credentials.from_service_account_file(\n",
    "        JSON_KEY_PATH,\n",
    "        scopes=[\"https://www.googleapis.com/auth/cloud-platform\"]\n",
    "    )\n",
    "    \n",
    "    # Initialize LLM model (same variable name as your Groq setup)\n",
    "    llm = ChatVertexAI(\n",
    "        model_name=\"gemini-2.5-flash-lite\",  \n",
    "        project=PROJECT_ID,\n",
    "        location=GOOGLE_LOCATION, \n",
    "        credentials=credentials,\n",
    "        temperature=1.0\n",
    "    )\n",
    "    \n",
    "    # Bind tools (same as your Groq setup)\n",
    "    llm_with_tools = llm.bind_tools(tools)\n",
    "    \n",
    "    # Test the model\n",
    "    response = llm.invoke(\"Hello! How are you today?\")\n",
    "    print(f\"🤖 Response: {response.content}\")\n",
    "\n",
    "except Exception as e:\n",
    "    print(f\"Error occurred: {str(e)}\")"
   ]
  },
  {
   "cell_type": "code",
   "execution_count": 10,
   "metadata": {},
   "outputs": [
    {
     "data": {
      "text/plain": [
       "AIMessage(content='', additional_kwargs={'function_call': {'name': 'tavily_search_results_json', 'arguments': '{\"query\": \"recent Google AI News\"}'}}, response_metadata={'is_blocked': False, 'safety_ratings': [], 'usage_metadata': {'prompt_token_count': 164, 'candidates_token_count': 13, 'total_token_count': 177, 'prompt_tokens_details': [{'modality': 1, 'token_count': 164}], 'candidates_tokens_details': [{'modality': 1, 'token_count': 13}], 'thoughts_token_count': 0, 'cached_content_token_count': 0, 'cache_tokens_details': []}, 'finish_reason': 'STOP', 'avg_logprobs': -0.1420499453177819, 'model_name': 'gemini-2.5-flash-lite'}, id='run--2db47f0c-8637-4f61-8ae5-94a4fc043b51-0', tool_calls=[{'name': 'tavily_search_results_json', 'args': {'query': 'recent Google AI News'}, 'id': '49c6f9e7-06c1-4826-86e2-bdab9d289064', 'type': 'tool_call'}], usage_metadata={'input_tokens': 164, 'output_tokens': 13, 'total_tokens': 177, 'input_token_details': {'cache_read': 0}})"
      ]
     },
     "execution_count": 10,
     "metadata": {},
     "output_type": "execute_result"
    }
   ],
   "source": [
    "llm_with_tools.invoke([HumanMessage(content=f\"What is the recent Google AI News\")])"
   ]
  },
  {
   "cell_type": "code",
   "execution_count": 11,
   "metadata": {},
   "outputs": [],
   "source": [
    "## State Schema\n",
    "from typing_extensions import TypedDict\n",
    "from langchain_core.messages import AnyMessage\n",
    "from typing import Annotated\n",
    "from langgraph.graph.message import add_messages\n",
    "class State(TypedDict):\n",
    "    messages:Annotated[list[AnyMessage],add_messages]"
   ]
  },
  {
   "cell_type": "code",
   "execution_count": 12,
   "metadata": {},
   "outputs": [
    {
     "data": {
      "image/png": "[encoded data removed]",
      "text/plain": [
       "<IPython.core.display.Image object>"
      ]
     },
     "metadata": {},
     "output_type": "display_data"
    }
   ],
   "source": [
    "### Entire Chatbot With LangGraph\n",
    "from IPython.display import Image, display\n",
    "from langgraph.graph import StateGraph, START, END\n",
    "from langgraph.prebuilt import ToolNode\n",
    "from langgraph.prebuilt import tools_condition\n",
    "\n",
    "### Node definition\n",
    "def response_llm(state:State):\n",
    "    return {\"messages\":[llm_with_tools.invoke(state[\"messages\"])]}\n",
    "\n",
    "# Build graph\n",
    "builder = StateGraph(State)\n",
    "builder.add_node(\"Chatbot\", response_llm)\n",
    "builder.add_node(\"tools\", ToolNode(tools))\n",
    "\n",
    "builder.add_edge(START, \"Chatbot\")\n",
    "builder.add_conditional_edges(\n",
    "    \"Chatbot\", \n",
    "    tools_condition,\n",
    ")\n",
    "builder.add_edge(\"tools\", \"Chatbot\")\n",
    "\n",
    "\n",
    "graph = builder.compile()\n",
    "\n",
    "# View\n",
    "display(Image(graph.get_graph().draw_mermaid_png()))\n"
   ]
  },
  {
   "cell_type": "code",
   "execution_count": 13,
   "metadata": {},
   "outputs": [
    {
     "name": "stdout",
     "output_type": "stream",
     "text": [
      "================================\u001b[1m Human Message \u001b[0m=================================\n",
      "\n",
      "What is attention is all you need\n",
      "==================================\u001b[1m Ai Message \u001b[0m==================================\n",
      "Tool Calls:\n",
      "  wikipedia (114cf02b-d351-495f-8d82-02bac3dc585e)\n",
      " Call ID: 114cf02b-d351-495f-8d82-02bac3dc585e\n",
      "  Args:\n",
      "    query: Attention Is All You Need\n",
      "=================================\u001b[1m Tool Message \u001b[0m=================================\n",
      "Name: wikipedia\n",
      "\n",
      "Page: Attention Is All You Need\n",
      "Summary: \"Attention Is All You Need\" is a 2017 landmark research paper in machine learning authored by eight scientists working at Google. The paper introduced a new deep learning architecture known as the transformer, based on the attention mechanism proposed in 2014 by Bahdanau et al. It is considered a foundational paper in modern artificial intelligence, and a main contributor to the AI boom, as the transformer approach has become the main architecture of a wide variety of AI, such as large language models. At the time, the focus of the research was on improving Seq2seq techniques for machine translation, but the authors go further in the paper, foreseeing the technique's potential for other tasks like question answering and what is now known as multimodal generative AI.\n",
      "The paper's title is a reference to the song \"All You Need Is Love\" by the Beatles. The name \"Transformer\" was picked because Jakob Uszkoreit, one of the paper's authors, liked the s\n",
      "==================================\u001b[1m Ai Message \u001b[0m==================================\n",
      "\n",
      "\"Attention Is All You Need\" is a 2017 research paper by eight scientists at Google that introduced the transformer, a new deep learning architecture. This architecture is based on the attention mechanism and has become fundamental to many modern AI systems, including large language models. The paper's authors aimed to improve sequence-to-sequence models for machine translation, but they also envisioned the transformer's potential for other tasks like question answering and multimodal generative AI. The title is a play on The Beatles' song \"All You Need Is Love.\"\n"
     ]
    }
   ],
   "source": [
    "messages=graph.invoke({\"messages\":HumanMessage(content=\"What is attention is all you need\")})\n",
    "for m in messages['messages']:\n",
    "    m.pretty_print()"
   ]
  },
  {
   "cell_type": "code",
   "execution_count": 14,
   "metadata": {},
   "outputs": [
    {
     "name": "stdout",
     "output_type": "stream",
     "text": [
      "================================\u001b[1m Human Message \u001b[0m=================================\n",
      "\n",
      "What is machine learning\n",
      "==================================\u001b[1m Ai Message \u001b[0m==================================\n",
      "Tool Calls:\n",
      "  wikipedia (e3cfe491-8cdf-4498-96b2-0a9e5f4108f2)\n",
      " Call ID: e3cfe491-8cdf-4498-96b2-0a9e5f4108f2\n",
      "  Args:\n",
      "    query: machine learning\n",
      "=================================\u001b[1m Tool Message \u001b[0m=================================\n",
      "Name: wikipedia\n",
      "\n",
      "Page: Machine learning\n",
      "Summary: Machine learning (ML) is a field of study in artificial intelligence concerned with the development and study of statistical algorithms that can learn from data and generalise to unseen data, and thus perform tasks without explicit instructions. Within a subdiscipline in machine learning, advances in the field of deep learning have allowed neural networks, a class of statistical algorithms, to surpass many previous machine learning approaches in performance.\n",
      "ML finds application in many fields, including natural language processing, computer vision, speech recognition, email filtering, agriculture, and medicine. The application of ML to business problems is known as predictive analytics.\n",
      "Statistics and mathematical optimisation (mathematical programming) methods comprise the foundations of machine learning. Data mining is a related field of study, focusing on exploratory data analysis (EDA) via unsupervised learning. \n",
      "From a theoretical viewpoint, probab\n",
      "==================================\u001b[1m Ai Message \u001b[0m==================================\n",
      "\n",
      "Machine learning (ML) is a field of study in artificial intelligence. It focuses on developing statistical algorithms that can learn from data and generalize to new, unseen data, allowing them to perform tasks without explicit programming. Advances in deep learning, a subfield of ML, have enabled neural networks to outperform many previous ML approaches. ML is used in various applications such as natural language processing, computer vision, speech recognition, email filtering, agriculture, and medicine. The application of ML in business is known as predictive analytics. Machine learning is built upon foundations of statistics and mathematical optimization. Data mining, which focuses on exploratory data analysis through unsupervised learning, is a related field.\n"
     ]
    }
   ],
   "source": [
    "messages=graph.invoke({\"messages\":HumanMessage(content=\"What is machine learning\")})\n",
    "for m in messages['messages']:\n",
    "    m.pretty_print()"
   ]
  },
  {
   "cell_type": "code",
   "execution_count": 16,
   "metadata": {},
   "outputs": [
    {
     "name": "stdout",
     "output_type": "stream",
     "text": [
      "================================\u001b[1m Human Message \u001b[0m=================================\n",
      "\n",
      "Summarize Google I/O 2025\n",
      "==================================\u001b[1m Ai Message \u001b[0m==================================\n",
      "Tool Calls:\n",
      "  tavily_search_results_json (2ec7a0dc-cf4e-489f-a523-6ce26d414bdb)\n",
      " Call ID: 2ec7a0dc-cf4e-489f-a523-6ce26d414bdb\n",
      "  Args:\n",
      "    query: Google I/O 2025 summary\n",
      "=================================\u001b[1m Tool Message \u001b[0m=================================\n",
      "Name: tavily_search_results_json\n",
      "\n",
      "[{\"title\": \"Highlights from the Dialogues stage at I/O 2025 - Google Blog\", \"url\": \"https://blog.google/technology/developers/google-io-2025-dialogues-ai-quantum-storytelling/\", \"content\": \"Google I/O 2025's Dialogues stage showcased AI's impact on society.\\n   Discussions covered AI advancements, AGI, and quantum computing.\\n   Speakers included top Google leaders and outside visionaries.\\n   AI's role in science, storytelling, and autonomous driving was explored.\\n   Sustainability in AI development was also a key discussion point.\\n\\n Summaries were generated by Google AI. Generative AI is experimental. \\n\\nShare\\n\\nTwitterFacebookLinkedInMail\\n\\nCopy link [...] Last week, the Dialogues stage at Google I/O 2025 brought together Google leaders and visionaries like director Darren Aronofsky for conversations on the technological breakthroughs helping to shape society and our future. The talks explored AI innovations and some of the biggest opportunities and questions facing us today, from the frontiers of quantum computing to scientific advances to the evolution of storytelling. Take a look at what we discussed. [...] \\\\\\\"30122b0d-1169-4376-af7c-20c9de52c91c\\\\\\\", \\\\\\\"type\\\\\\\": \\\\\\\"item\\\\\\\", \\\\\\\"value\\\\\\\": \\\\\\\"Make it more concise\\\\\\\"}, {\\\\\\\"id\\\\\\\": \\\\\\\"18f3016a-7235-468b-b246-ffe974911ae9\\\\\\\", \\\\\\\"type\\\\\\\": \\\\\\\"item\\\\\\\", \\\\\\\"value\\\\\\\": \\\\\\\"Add more detail\\\\\\\"}, {\\\\\\\"id\\\\\\\": \\\\\\\"5d19c11d-6a61-49d3-9f1d-dad5d661ba4f\\\\\\\", \\\\\\\"type\\\\\\\": \\\\\\\"item\\\\\\\", \\\\\\\"value\\\\\\\": \\\\\\\"Make it easier to understand\\\\\\\"}, {\\\\\\\"id\\\\\\\": \\\\\\\"97064d1f-d9af-4a83-a44f-a84f8ed899d6\\\\\\\", \\\\\\\"type\\\\\\\": \\\\\\\"item\\\\\\\", \\\\\\\"value\\\\\\\": \\\\\\\"Include more images or videos\\\\\\\"}, {\\\\\\\"id\\\\\\\": \\\\\\\"a9ec2a70-c7c5-4f00-a179-31a7b5641879\\\\\\\", \\\\\\\"type\\\\\\\":\", \"score\": 0.8987045}, {\"title\": \"Google I/O 2025 keynote in 32 minutes - YouTube\", \"url\": \"https://www.youtube.com/watch?v=bDVpI23q8Zg\", \"content\": \"Google just wrapped up its big keynote at I/O 2025. As expected, it was full of AI-related announcements, ranging from updates across Google’s image and video generation models to new features in Search and Gmail. We got a look at Project Astra’s latest prototype that will complete tasks on your behalf, Gemini 2.5 Pro updates, a new AI filmmaking app called Flow, Project Starline is now Google Beam. Plus, a look at Xreal’s new Project Aura prototype. Here’s everything you missed. [...] 0:00 Intro\\n0:10 Ironwood\\n0:26 Google Beam/Project Starline\\n1:06 Speech Translation in Google Meet\\n1:55 Project Astra/Gemini Live Demo\\n2:34 Project Mariner\\n3:12 Gemini is MCP Compatible\\n3:25 Agent Mode\\n4:11 Personal context\\n4:29 Personalized Smart Replies\\n5:28 Gemini 2.5 Flash\\n5:51 Text-to-speech updates\\n6:45 Security updates and Thought Summaries\\n7:13 Thinking Budgets\\n7:30 Gemini 2.5 Flash coding Demo\\n8:38 Jules coding assistant\\n8:59 Gemini Diffusion\\n9:30 Gemini 2.5 Pro Deep Think [...] 10:11 Gemini 2.5 and Project Astra demo\\n10:55 Scientific AI research apps\\n11:40 AI Mode in Google Search\\n12:45 Deep Search and demo\\n13:57 Search Live\\n14:11 Visual shopping virtual try-on clothes demo\\n14:47 Agentic checkout\\n15:28 Gemini Live demo\\n16:00 Deep research\\n16:20 canvas\\n17:00 Imagen 4\\n18:00 Veo 3\\n19:00 Lyria 2\\n19:30 synthID\\n20:00 Aronofsky is using AI\\n20:48 Flow for creators\\n21:00 Flow video demo\\n22:30 Google AI pro and Ultra\\n23:30 Gemini is everywhere\\n24:25 Gemini on Headsets\", \"score\": 0.8923472}, {\"title\": \"Google I/O 2025: News and announcements\", \"url\": \"https://blog.google/technology/developers/google-io-2025-collection/\", \"content\": \"Image 2: A message from our CEOGoogle I/O 2025: From research to reality At our annual developer conference, we announced how we’re making AI even more helpful with Gemini. By Sundar Pichai- May 20, 2025 \\n   Image 3: Google DeepMindOur vision for building a universal AI assistant At Google I/O, we discussed how we're extending Gemini to become a world model. By Demis Hassabis- May 20, 2025 [...] Image 14: ShoppingShop with AI Mode, use AI to buy and try clothes on yourself virtually Learn more about Google’s new shopping features in AI Mode as well as a new virtual try-on tool that works with personal photos. By Lilian Rincon- May 20, 2025 \\n   Image 15: DevelopersBuilding with AI: highlights for developers at Google I/O Learn about the new tools we’re unveiling at I/O to help developers push the boundaries of what’s possible when building AI applicatio… By Mat Velloso- May 20, 2025 [...] Image 10: SearchAI in Search: Going beyond information to intelligence Today at I/O, we showed how we’re enhancing Search with our latest Gemini models via AI Mode. By Elizabeth Reid- May 20, 2025 \\n   Image 11: AIMeet Flow: AI-powered filmmaking with Veo 3 Today we introduced Flow, a new AI filmmaking tool built with and for creatives for the next wave of storytelling. By Tom Hume- May 20, 2025\", \"score\": 0.8687491}, {\"title\": \"Google I/O 2025 recap: AI updates, Android XR, Google Beam and ...\", \"url\": \"https://www.engadget.com/ai/google-io-2025-recap-ai-updates-android-xr-google-beam-and-everything-else-announced-at-the-annual-keynote-175900229.html\", \"content\": \"Published Time: 2025-05-21T16:04:21.000Z\\n\\nGoogle I/O 2025 recap: AI updates, Android XR, Google Beam and everything else announced at the annual keynote\\n\\n===============\\n\\nImage 1: Logo\\n\\nEngadget is part of the Yahoo family of brands.\\n\\nWhen you use our sites and apps, we use cookies to:\\n\\n   provide our sites and apps to you\\n   authenticate users, apply security measures, prevent spam and abuse and\\n   measure your use of our sites and apps [...] The chatbot now runs on Gemini 2.5. Google plans to bring some of its features into the core Search experience by injecting them into AI Overviews. Labs users will be the first to get access to the new features before Google rolls them out more broadly.\\n\\nMeanwhile, AI Mode is powering some new shopping features. You'll soon be able to upload a single picture of yourself to see what a piece of clothing might look like on a virtual version of you. [...] Today is one of the most important days on the tech calendar as Google kicked off its I/O developer event with its annual keynote. As ever, the company had many updates for a wide range of products to talk about.\", \"score\": 0.8455478}, {\"title\": \"100 things we announced at I/O - Google Blog\", \"url\": \"https://blog.google/technology/ai/google-io-2025-all-our-announcements/\", \"content\": \"Authors \\n           Sundar Pichai, CEO\\n           Demis Hassabis, CEO and Co-Founder, Google DeepMind\\n           Kent Walker, SVP\\n           James Manyika, SVP\\n           Ruth Porat, President & Chief Investment Officer\\n           See all\\n\\n   Feed\\n\\n   Press corner\\n   RSS feed\\n\\nSubscribe\\n\\nBreadcrumb\\n1.   \\n2.   Technology\\n3.   AI\\n\\n100 things we announced at I/O\\n==============================\\n\\nMay 21, 2025\\n\\n·\\n18 min read\\n\\nShare\\n\\nTwitterFacebookLinkedInMail\\n\\nCopy link [...] Image 15 Safety & Security #### A summer of security: empowering cyber defenders with AI By Kent Walker Jul 15, 2025\\n\\nImage 16 Google Labs #### Try featured notebooks on selected topics in NotebookLM By Steven Johnson Jul 14, 2025\\n\\nImage 17 Search #### Dive deeper with AI Mode and get gaming help in Circle to Search By Harsh Kharbanda Jul 09, 2025\\n\\nImage 18 Wear OS #### Gemini is coming to your Wear OS smartwatch By Jaime Williams Jul 09, 2025\\n\\n. [...] Yesterday at Google I/O, we shared how we’re taking the progress we’re making in AI and applying it across our products. Major upgrades are coming to our Gemini app, our generative AI tools and everything in between — including some truly incredible progress we’re making with our AI models (and new ways you can access them).\\n\\nHere’s a list of I/O 2025’s highlights — many of which you can try today!\\n\\nAsk anything with AI in Search\\n------------------------------\", \"score\": 0.79958355}]\n",
      "==================================\u001b[1m Ai Message \u001b[0m==================================\n",
      "\n",
      "Google I/O 2025, held on May 20th, 2025, was largely centered around advancements in AI, with a strong focus on the Gemini model. Key announcements included:\n",
      "\n",
      "**AI and Gemini:**\n",
      "*   **Gemini 2.5 Pro and Gemini 2.5 Flash:** Updates and new capabilities for these AI models were revealed, including enhanced coding assistance and an \"Agent Mode\" for more proactive task completion.\n",
      "*   **AI in Search:** Gemini models are being integrated into Google Search through an \"AI Mode,\" aiming to provide more intelligent and comprehensive answers. New features like \"Deep Search\" and AI-powered shopping experiences were also previewed.\n",
      "*   **Project Astra:** The latest prototype of this AI assistant was showcased, demonstrating its ability to perform tasks on behalf of the user.\n",
      "*   **AI for Creators:** A new AI filmmaking app called \"Flow,\" built with tools like Veo 3, was introduced to aid in storytelling.\n",
      "*   **Other AI advancements:** This included updates to image and video generation models, AI-powered translation in Google Meet, and progress in scientific AI research.\n",
      "\n",
      "**Other Key Announcements:**\n",
      "*   **Google Beam (formerly Project Starline):** The immersive communication technology was presented with updates.\n",
      "*   **Android XR:** Google shared updates related to its extended reality platform for Android.\n",
      "*   **Gemini on Wear OS:** The AI model is being brought to smartwatches.\n",
      "*   **NotebookLM:** Featured notebooks on selected topics were made available.\n",
      "\n",
      "The event highlighted Google's commitment to making AI more helpful across its product ecosystem, from everyday search to creative endeavors and developer tools.\n"
     ]
    }
   ],
   "source": [
    "messages=graph.invoke({\"messages\":HumanMessage(content=\"Summarize Google I/O 2025\")})\n",
    "for m in messages['messages']:\n",
    "    m.pretty_print()"
   ]
  }
 ],
 "metadata": {
  "kernelspec": {
   "display_name": ".venv",
   "language": "python",
   "name": "python3"
  },
  "language_info": {
   "codemirror_mode": {
    "name": "ipython",
    "version": 3
   },
   "file_extension": ".py",
   "mimetype": "text/x-python",
   "name": "python",
   "nbconvert_exporter": "python",
   "pygments_lexer": "ipython3",
   "version": "3.13.3"
  }
 },
 "nbformat": 4,
 "nbformat_minor": 2
}
