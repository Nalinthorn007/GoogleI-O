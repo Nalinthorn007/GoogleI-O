{
 "cells": [
  {
   "cell_type": "markdown",
   "metadata": {},
   "source": [
    "## ສ້າງ Chatbot ໂດຍໃຊ້ Multiple Tool ໂດຍໃຊ້ Langgraph\n",
    "\n",
    "**ArxivQueryRun ?**\n",
    "  - ເປັນ tool ສຳຫຼັບຄົ້ນຫາເອກະສານວິທະຍາສາດຈາກ arXiv\n",
    "  - arXiv = ຖານຂໍ້ມູນເອກະສານວິທະຍາສາດອອນລາຍ\n",
    "  - ໃຊ້ຄົ້ນຫາ research papers, preprints ໃນດ້ານຟີຊິກ, ຄະນິດສາດ, ຄອມພິວເຕີສາດ\n",
    "  - ສາມາດຄົ້ນຫາດ້ວຍຄຳສຳຄັນ, ຊື່ຜູ້ຂຽນ, ຫຼື ຫົວຂໍ້\n",
    "\n",
    "**WikipediaQueryRun ?**\n",
    "  - ເປັນ tool ສຳຫຼັບຄົ້ນຫາຂໍ້ມູນຈາກ Wikipedia\n",
    "  - ໃຫ້ຂໍ້ມູນທົ່ວໄປເກີ່ຍວກັບບຸກຄົນ, ສະຖານທີ່, ເຫດການ, ແນວຄວາມຄິດ\n",
    "  - ອ່ານງ່າຍກວ່າເອກະສານວິທະຍາສາດ\n",
    "\n",
    "**WikipediaAPIWrapper ?**\n",
    " - ເປັນ utility class ທີ່ຫໍ່ຫຸ້ມ Wikipedia API\n",
    " - ຈັດການການສື່ສານກັບ Wikipedia servers\n",
    " - ກຳນົດຄວາມຍາວຂອງຜົນລັບ, ພາສາ, ແລະ ຕົວເລືອກອື່ນໆ\n",
    " - ເຮັດໃຫ້ການໃຊ້ Wikipedia API ງ່າຍຂຶ້ນ\n",
    "\n",
    " **ArxivAPIWrapper ?** \n",
    " - ເປັນ utility class ທີ່ຫໍ່ຫຸ້ມ arXiv API\n",
    " - ຈັດການການຄົ້ນຫາແລະການດຶງຂໍ້ມູນຈາກ arXiv\n",
    " - ກຳນົດຈຳນວນຜົນລັບ, ຟີລເຕີຂໍ້ມູນ\n",
    " - ຈັດຮູບແບບຜົນລັບໃຫ້ເໝາະສຳຫຼັບການນຳໃຊ້ "
   ]
  },
  {
   "cell_type": "code",
   "execution_count": 23,
   "metadata": {},
   "outputs": [],
   "source": [
    "from langchain_community.tools import ArxivQueryRun,WikipediaQueryRun\n",
    "from langchain_community.utilities import WikipediaAPIWrapper,ArxivAPIWrapper\n",
    "from langchain_core.messages import HumanMessage\n",
    "from dotenv import load_dotenv\n",
    "load_dotenv()\n",
    "\n",
    "import os\n",
    "\n",
    "os.environ[\"TAVILY_API_KEY\"]=os.getenv(\"TAVILY_API_KEY\")\n",
    "os.environ[\"GROQ_API_KEY\"]=os.getenv(\"GROQ_API_KEY\")\n"
   ]
  },
  {
   "cell_type": "code",
   "execution_count": 24,
   "metadata": {},
   "outputs": [
    {
     "name": "stdout",
     "output_type": "stream",
     "text": [
      "arxiv\n"
     ]
    }
   ],
   "source": [
    "api_wrapper_arxiv=ArxivAPIWrapper(top_k_results=2,doc_content_chars_max=1000)\n",
    "arxiv=ArxivQueryRun(api_wrapper=api_wrapper_arxiv)\n",
    "print(arxiv.name)"
   ]
  },
  {
   "cell_type": "code",
   "execution_count": 25,
   "metadata": {},
   "outputs": [
    {
     "data": {
      "text/plain": [
       "\"Published: 2024-07-22\\nTitle: Attention Is All You Need But You Don't Need All Of It For Inference of Large Language Models\\nAuthors: Georgy Tyukin, Gbetondji J-S Dovonon, Jean Kaddour, Pasquale Minervini\\nSummary: The inference demand for LLMs has skyrocketed in recent months, and serving\\nmodels with low latencies remains challenging due to the quadratic input length\\ncomplexity of the attention layers. In this work, we investigate the effect of\\ndropping MLP and attention layers at inference time on the performance of\\nLlama-v2 models. We find that dropping dreeper attention layers only marginally\\ndecreases performance but leads to the best speedups alongside dropping entire\\nlayers. For example, removing 33\\\\% of attention layers in a 13B Llama2 model\\nresults in a 1.8\\\\% drop in average performance over the OpenLLM benchmark. We\\nalso observe that skipping layers except the latter layers reduces performances\\nfor more layers skipped, except for skipping the attention layers.\\n\\nPublished: 2024-0\""
      ]
     },
     "execution_count": 25,
     "metadata": {},
     "output_type": "execute_result"
    }
   ],
   "source": [
    "arxiv.invoke(\"Attention iss all you need\")"
   ]
  },
  {
   "cell_type": "code",
   "execution_count": 26,
   "metadata": {},
   "outputs": [
    {
     "data": {
      "text/plain": [
       "'wikipedia'"
      ]
     },
     "execution_count": 26,
     "metadata": {},
     "output_type": "execute_result"
    }
   ],
   "source": [
    "api_wrapper_wiki=WikipediaAPIWrapper(top_k_results=2,doc_content_chars_max=1000)\n",
    "wiki=WikipediaQueryRun(api_wrapper=api_wrapper_wiki)\n",
    "wiki.name"
   ]
  },
  {
   "cell_type": "code",
   "execution_count": 27,
   "metadata": {},
   "outputs": [
    {
     "data": {
      "text/plain": [
       "'Page: Retrieval-augmented generation\\nSummary: Retrieval-augmented generation (RAG) is a technique that enables large language models (LLMs) to retrieve and incorporate new information. With RAG, LLMs do not respond to user queries until they refer to a specified set of documents. These documents supplement information from the LLM\\'s pre-existing training data. This allows LLMs to use domain-specific and/or updated information that is not available in the training data. For example, this helps LLM-based chatbots access internal company data or generate responses based on authoritative sources.\\nRAG improves large language models (LLMs) by incorporating information retrieval before generating responses. Unlike traditional LLMs that rely on static training data, RAG pulls relevant text from databases, uploaded documents, or web sources. According to Ars Technica, \"RAG is a way of improving LLM performance, in essence by blending the LLM process with a web search or other document look-up p'"
      ]
     },
     "execution_count": 27,
     "metadata": {},
     "output_type": "execute_result"
    }
   ],
   "source": [
    "wiki.invoke(\"What is RAG\")"
   ]
  },
  {
   "cell_type": "code",
   "execution_count": 28,
   "metadata": {},
   "outputs": [],
   "source": [
    "### Tavily Search Tool\n",
    "from langchain_community.tools.tavily_search import TavilySearchResults\n",
    "\n",
    "tavily = TavilySearchResults()"
   ]
  },
  {
   "cell_type": "code",
   "execution_count": null,
   "metadata": {},
   "outputs": [
    {
     "data": {
      "text/plain": [
       "[{'title': 'Latest news from Google I/O 2025 - Plain Concepts',\n",
       "  'url': 'https://www.plainconcepts.com/google-io-2025-recap/',\n",
       "  'content': 'Another aspect to note is that Google also seems to be betting on Samsung for the hardware of its XR glasses, which will be manufactured by Xreal under the name Project Aura.\\n\\nAs for the functions of these XR glasses, Google emphasized that they are an excellent tool to use with Gemini.\\n\\nAnd here is the summary of Google I/O 2025. Don’t miss the latest news in our networks and newsletter!\\n\\nImage 3: Elena Canorea\\n\\n Author \\n\\n Elena Canorea \\n\\n Communications Lead \\n\\n_LinkedIn_\\n\\nShare\\n\\nTweet [...] The wait is over for one of the most important developer events of the year: Google I/O. The technology giant is immersed in one of its benchmark conferences, where they are launching numerous news about the latest tools and developments they are working on. A long list of interesting advances in generative AI that are going to completely change the industry.\\n\\nWe didn’t want you to miss anything, so here’s a summary of the most important news!\\n\\nGoogle I/O 2025 Recap\\n--------------------- [...] Below, we break down the most important releases and news, but we start with a 10-minute summary of the highlights:\\n\\n### Gemini 2.5\\n\\nGemini has many new features such as Google AI Studio updates, native audio output and live API, native audio dialog, asynchronous function calling, computer usage API, URL context, model context protocol, and more…\\n\\n### Google Beam',\n",
       "  'score': 0.81133276},\n",
       " {'title': '100 things we announced at I/O - Google Blog',\n",
       "  'url': 'https://blog.google/technology/ai/google-io-2025-all-our-announcements/',\n",
       "  'content': 'Authors \\n           Sundar Pichai, CEO\\n           Demis Hassabis, CEO and Co-Founder, Google DeepMind\\n           Kent Walker, SVP\\n           James Manyika, SVP\\n           Ruth Porat, President & Chief Investment Officer\\n           See all\\n\\n   Feed\\n\\n   Press corner\\n   RSS feed\\n\\nSubscribe\\n\\nBreadcrumb\\n1.   \\n2.   Technology\\n3.   AI\\n\\n100 things we announced at I/O\\n==============================\\n\\nMay 21, 2025\\n\\n·\\n18 min read\\n\\nShare\\n\\nTwitterFacebookLinkedInMail\\n\\nCopy link [...] Published Time: 2025-05-21T23:00:00+00:00\\n\\nGoogle I/O 2025: 100 things Google announced\\n\\n===============\\n\\nSkip to main content\\n\\nThe Keyword\\n\\n100 things we announced at I/O\\n\\nShare\\n\\nTwitterFacebookLinkedInMail\\n\\nCopy link\\n\\n   Home\\n    Product news \\n\\n Product news \\n        Android, Chrome & Play \\n           Android\\n           Chrome\\n           Chromebooks\\n           Google Play\\n           Wear OS\\n           See all [...] That’s a wrap on I/O 2025! Here’s what we announced, launched and demoed.\\n\\nImage 1: Molly McHugh-Johnson headshot Molly McHugh-Johnson Contributor, The Keyword\\n\\nShare\\n\\nTwitterFacebookLinkedInMail\\n\\nCopy link\\n\\nImage 2: Three iridescent 3D geometric shapes, possibly forming IO, against a starry dark blue background, framed by a light gray border with a grid pattern.',\n",
       "  'score': 0.76596165},\n",
       " {'title': 'Google I/O 2025: News and announcements',\n",
       "  'url': 'https://blog.google/technology/developers/google-io-2025-collection/',\n",
       "  'content': \"Image 2: A message from our CEOGoogle I/O 2025: From research to reality At our annual developer conference, we announced how we’re making AI even more helpful with Gemini. By Sundar Pichai- May 20, 2025 \\n   Image 3: Google DeepMindOur vision for building a universal AI assistant At Google I/O, we discussed how we're extending Gemini to become a world model. By Demis Hassabis- May 20, 2025 [...] Image 28: Announcing Gemma 3n Preview: powerful, efficient, mobile-first AI The latest Google open model for accessible AI, featuring unique flexibility, privacy, and expanded multimodal capabilities on mobile. \\n   Image 29: Expanding Gemini 2.5 Flash and Pro capabilities for enterprises We're announcing new capabilities for Gemini 2.5 Flash and 2.5 Pro on Vertex AI, including thinking summaries. [...] Image 10: SearchAI in Search: Going beyond information to intelligence Today at I/O, we showed how we’re enhancing Search with our latest Gemini models via AI Mode. By Elizabeth Reid- May 20, 2025 \\n   Image 11: AIMeet Flow: AI-powered filmmaking with Veo 3 Today we introduced Flow, a new AI filmmaking tool built with and for creatives for the next wave of storytelling. By Tom Hume- May 20, 2025\",\n",
       "  'score': 0.74807674},\n",
       " {'title': 'Explore Google I/O 2025',\n",
       "  'url': 'https://io.google/2025/explore/',\n",
       "  'content': 'Explore Google I/O 2025\\n\\n===============\\n\\nSkip to main content\\n\\nImage 1Image 2\\n\\nImage 3Image 4Image 5Image 6\\n\\nExploreCommunityAbout\\n\\nWatch and explore\\n=================\\n\\nReview keynotes, sessions, and learning experiences about the latest developer products and platforms.\\n\\nSee all content\\n\\nImage 7Image 8\\n\\nFocus areas\\n-----------\\n\\nImage 9 Android -------)\\n\\nImage 10 AI --)\\n\\nImage 11 Web ---)\\n\\nImage 12 Cloud -----)\\n\\nFind a session\\n--------------\\n\\nView all speakers Image 13 [...] I/O PuzzlePrivacy & termsFAQImage 14Image 15Image 16Image 17Image 18Image 19Image 20Image 21Image 22Image 23Image 24Image 25Image 26Image 27Image 28\\n\\nImage 29 Refresh',\n",
       "  'score': 0.61668247},\n",
       " {'title': 'Google I/O 2025',\n",
       "  'url': 'https://io.google/',\n",
       "  'content': \"Google I/O 2025\\n\\n===============\\n\\nSkip to main content\\n\\nImage 1Image 2\\n\\nImage 3Image 4: Google I/O LogoImage 5Image 6: Google I/O Logo\\n\\nExploreCommunityAbout\\n\\nCatch up on Google I/O\\n======================\\n\\nCheck out the highlights and anything you might have missed.\\n\\nWatch now\\n\\nImage 7\\n\\nImage 8\\n\\nImage 9\\n\\nCheck out the latest announcements\\n----------------------------------\\n\\n   Image 10Image 11 \\n### Google keynote\\n\\n   Image 12Image 13 \\n### Developer keynote\\n\\n   Image 14 \\n### Watch the recaps [...] What are you building for?\\n--------------------------\\n\\nImage 15 ### AndroidImage 16 ### AndroidImage 17 ### AIImage 18 ### AIImage 19 ### WebImage 20 ### WebImage 21 ### CloudImage 22 ### Cloud\\n\\nJoin a community group\\n----------------------\\n\\nConnect with developers and groups near you.\\n\\nGet started\\n\\nImage 23Image 24\\n\\nContinue learning\\n-----------------\\n\\nTry new Google products and solutions through self-directed codelabs and guided workshops.\\n\\nView all learning content\\n\\nImage 25Image 26 [...] Image 27\\n\\nImage 28: Google I/O Logo\\n\\nImage 29: I/O logoImage 30: Google I/O LogoImage 31: I/O 2025 Logo\\n\\nImage 32: Background Image\\n\\nImage 33\\nYou're already registered!\\n--------------------------\\n\\nI/O PuzzlePrivacy & termsFAQImage 34Image 35Image 36Image 37Image 38Image 39Image 40Image 41Image 42Image 43Image 44Image 45Image 46Image 47Image 48\\n\\nImage 49 Refresh\",\n",
       "  'score': 0.60245985}]"
      ]
     },
     "execution_count": 17,
     "metadata": {},
     "output_type": "execute_result"
    }
   ],
   "source": [
    "tavily.invoke(\"summarize Google I/O 2025\")"
   ]
  },
  {
   "cell_type": "code",
   "execution_count": 29,
   "metadata": {},
   "outputs": [],
   "source": [
    "### Combine all the tools in the list\n",
    "\n",
    "tools=[arxiv,wiki,tavily]"
   ]
  },
  {
   "cell_type": "code",
   "execution_count": 30,
   "metadata": {},
   "outputs": [],
   "source": [
    "## Initialize my LLM model\n",
    "\n",
    "from langchain_groq import ChatGroq\n",
    "\n",
    "llm=ChatGroq(model=\"qwen/qwen3-32b\")\n",
    "\n",
    "llm_with_tools=llm.bind_tools(tools)"
   ]
  },
  {
   "cell_type": "code",
   "execution_count": 20,
   "metadata": {},
   "outputs": [
    {
     "data": {
      "text/plain": [
       "AIMessage(content='', additional_kwargs={'tool_calls': [{'id': 'sd2rjdp3n', 'function': {'arguments': '{\"query\":\"Google AI latest news\"}', 'name': 'tavily_search_results_json'}, 'type': 'function'}]}, response_metadata={'token_usage': {'completion_tokens': 30, 'prompt_tokens': 884, 'total_tokens': 914, 'completion_time': 0.060135181, 'prompt_time': 0.016586073, 'queue_time': 0.050438418000000006, 'total_time': 0.076721254}, 'model_name': 'meta-llama/llama-4-maverick-17b-128e-instruct', 'system_fingerprint': 'fp_c527aa4474', 'service_tier': 'on_demand', 'finish_reason': 'tool_calls', 'logprobs': None}, id='run--a67d5646-7ebd-496c-8e3c-eecc50c5c307-0', tool_calls=[{'name': 'tavily_search_results_json', 'args': {'query': 'Google AI latest news'}, 'id': 'sd2rjdp3n', 'type': 'tool_call'}], usage_metadata={'input_tokens': 884, 'output_tokens': 30, 'total_tokens': 914})"
      ]
     },
     "execution_count": 20,
     "metadata": {},
     "output_type": "execute_result"
    }
   ],
   "source": [
    "llm_with_tools.invoke([HumanMessage(content=f\"What is the recent Google AI News\")])"
   ]
  },
  {
   "cell_type": "code",
   "execution_count": 31,
   "metadata": {},
   "outputs": [],
   "source": [
    "## State Schema\n",
    "from typing_extensions import TypedDict\n",
    "from langchain_core.messages import AnyMessage\n",
    "from typing import Annotated\n",
    "from langgraph.graph.message import add_messages\n",
    "class State(TypedDict):\n",
    "    messages:Annotated[list[AnyMessage],add_messages]"
   ]
  },
  {
   "cell_type": "code",
   "execution_count": 32,
   "metadata": {},
   "outputs": [
    {
     "data": {
      "image/png": "[encoded data removed]",
      "text/plain": [
       "<IPython.core.display.Image object>"
      ]
     },
     "metadata": {},
     "output_type": "display_data"
    }
   ],
   "source": [
    "### Entire Chatbot With LangGraph\n",
    "from IPython.display import Image, display\n",
    "from langgraph.graph import StateGraph, START, END\n",
    "from langgraph.prebuilt import ToolNode\n",
    "from langgraph.prebuilt import tools_condition\n",
    "\n",
    "### Node definition\n",
    "def response_llm(state:State):\n",
    "    return {\"messages\":[llm_with_tools.invoke(state[\"messages\"])]}\n",
    "\n",
    "# Build graph\n",
    "builder = StateGraph(State)\n",
    "builder.add_node(\"Chatbot\", response_llm)\n",
    "builder.add_node(\"tools\", ToolNode(tools))\n",
    "\n",
    "builder.add_edge(START, \"Chatbot\")\n",
    "builder.add_conditional_edges(\n",
    "    \"Chatbot\", \n",
    "    tools_condition,\n",
    ")\n",
    "builder.add_edge(\"tools\", \"Chatbot\")\n",
    "\n",
    "\n",
    "graph = builder.compile()\n",
    "\n",
    "# View\n",
    "display(Image(graph.get_graph().draw_mermaid_png()))\n"
   ]
  },
  {
   "cell_type": "code",
   "execution_count": 33,
   "metadata": {},
   "outputs": [
    {
     "name": "stdout",
     "output_type": "stream",
     "text": [
      "================================\u001b[1m Human Message \u001b[0m=================================\n",
      "\n",
      "What is attention is all you need\n",
      "==================================\u001b[1m Ai Message \u001b[0m==================================\n",
      "Tool Calls:\n",
      "  arxiv (eg2bv4qpw)\n",
      " Call ID: eg2bv4qpw\n",
      "  Args:\n",
      "    query: Attention is All You Need\n",
      "=================================\u001b[1m Tool Message \u001b[0m=================================\n",
      "Name: arxiv\n",
      "\n",
      "Published: 2024-07-22\n",
      "Title: Attention Is All You Need But You Don't Need All Of It For Inference of Large Language Models\n",
      "Authors: Georgy Tyukin, Gbetondji J-S Dovonon, Jean Kaddour, Pasquale Minervini\n",
      "Summary: The inference demand for LLMs has skyrocketed in recent months, and serving\n",
      "models with low latencies remains challenging due to the quadratic input length\n",
      "complexity of the attention layers. In this work, we investigate the effect of\n",
      "dropping MLP and attention layers at inference time on the performance of\n",
      "Llama-v2 models. We find that dropping dreeper attention layers only marginally\n",
      "decreases performance but leads to the best speedups alongside dropping entire\n",
      "layers. For example, removing 33\\% of attention layers in a 13B Llama2 model\n",
      "results in a 1.8\\% drop in average performance over the OpenLLM benchmark. We\n",
      "also observe that skipping layers except the latter layers reduces performances\n",
      "for more layers skipped, except for skipping the attention layers.\n",
      "\n",
      "Published: 2021-0\n",
      "==================================\u001b[1m Ai Message \u001b[0m==================================\n",
      "\n",
      "The phrase \"Attention is All You Need\" refers to the groundbreaking 2017 paper introducing the **Transformer** model, which revolutionized natural language processing by replacing recurrence with self-attention mechanisms. However, the search results point to a newer 2024 paper with a similar title, focusing on optimizing large language models (LLMs) by reducing attention layers during inference. Here’s a breakdown:\n",
      "\n",
      "### Key Points from the 2024 Paper:\n",
      "- **Objective**: Improve inference efficiency of LLMs (e.g., Llama-v2) by dropping attention or MLP layers.\n",
      "- **Findings**: \n",
      "  - Removing up to 33% of attention layers in a 13B model caused only a 1.8% performance drop on benchmarks.\n",
      "  - Earlier layers can be skipped with minimal impact, but later layers are critical for performance.\n",
      "  - Significant speedups are achievable without severe accuracy loss.\n",
      "\n",
      "### Original 2017 \"Attention is All You Need\" Paper:\n",
      "If you're referring to the foundational work, it introduced:\n",
      "- **Self-attention**: Enables models to weigh relationships between input elements dynamically.\n",
      "- **Parallelism**: Transformers process data in parallel (unlike RNNs/LSTMs), enabling scalability.\n",
      "- **Impact**: Became the backbone of modern NLP models (e.g., BERT, GPT, Llama).\n",
      "\n",
      "Would you like clarification on the original paper or the optimization techniques in the newer work?\n"
     ]
    }
   ],
   "source": [
    "messages=graph.invoke({\"messages\":HumanMessage(content=\"What is attention is all you need\")})\n",
    "for m in messages['messages']:\n",
    "    m.pretty_print()"
   ]
  },
  {
   "cell_type": "code",
   "execution_count": 14,
   "metadata": {},
   "outputs": [
    {
     "name": "stdout",
     "output_type": "stream",
     "text": [
      "================================\u001b[1m Human Message \u001b[0m=================================\n",
      "\n",
      "What is machine learning\n",
      "==================================\u001b[1m Ai Message \u001b[0m==================================\n",
      "Tool Calls:\n",
      "  wikipedia (shex0ceas)\n",
      " Call ID: shex0ceas\n",
      "  Args:\n",
      "    query: machine learning\n",
      "=================================\u001b[1m Tool Message \u001b[0m=================================\n",
      "Name: wikipedia\n",
      "\n",
      "Page: Machine learning\n",
      "Summary: Machine learning (ML) is a field of study in artificial intelligence concerned with the development and study of statistical algorithms that can learn from data and generalise to unseen data, and thus perform tasks without explicit instructions. Within a subdiscipline in machine learning, advances in the field of deep learning have allowed neural networks, a class of statistical algorithms, to surpass many previous machine learning approaches in performance.\n",
      "ML finds application in many fields, including natural language processing, computer vision, speech recognition, email filtering, agriculture, and medicine. The application of ML to business problems is known as predictive analytics.\n",
      "Statistics and mathematical optimisation (mathematical programming) methods comprise the foundations of machine learning. Data mining is a related field of study, focusing on exploratory data analysis (EDA) via unsupervised learning. \n",
      "From a theoretical viewpoint, probab\n",
      "==================================\u001b[1m Ai Message \u001b[0m==================================\n",
      "\n",
      "Machine learning is a field of study in artificial intelligence that involves the development of statistical algorithms that can learn from data and perform tasks without explicit instructions. It has various applications in fields such as natural language processing, computer vision, and medicine, and is also used in predictive analytics for business problems.\n"
     ]
    }
   ],
   "source": [
    "messages=graph.invoke({\"messages\":HumanMessage(content=\"What is machine learning\")})\n",
    "for m in messages['messages']:\n",
    "    m.pretty_print()"
   ]
  },
  {
   "cell_type": "code",
   "execution_count": null,
   "metadata": {},
   "outputs": [
    {
     "name": "stdout",
     "output_type": "stream",
     "text": [
      "================================\u001b[1m Human Message \u001b[0m=================================\n",
      "\n",
      "ສະລຸບງານ Google I/O 2025 ໃຫ້ແນ່\n",
      "==================================\u001b[1m Ai Message \u001b[0m==================================\n",
      "Tool Calls:\n",
      "  tavily_search_results_json (k3p7nvdjb)\n",
      " Call ID: k3p7nvdjb\n",
      "  Args:\n",
      "    query: Google I/O 2025 event summary\n",
      "=================================\u001b[1m Tool Message \u001b[0m=================================\n",
      "Name: tavily_search_results_json\n",
      "\n",
      "[{\"title\": \"Google I/O '25 Keynote - YouTube\", \"url\": \"https://www.youtube.com/watch?v=o8NiE3XMPrM\", \"content\": \"# Google I/O '25 Keynote\\n## Google\\n13300000 subscribers\\n41102 likes\\n\\n### Description\\n6926194 views\\nPosted: 20 May 2025\\nIt's time to I/O! Tune in to learn the latest news, announcements, and AI updates from Google. \\n\\n00:00:00 Opening\\n00:02:17 Introduction\\n00:19:29 Google DeepMind + Gemini for Developers\\n00:46:04 Search\\n01:11:06 Gemini \\n01:24:02 Generative Media\\n01:37:37 Android XR\\n01:51:09 Closing\\n\\nTo watch this keynote interpreted in American Sign Language (ASL), please click here: [...] 融合在了Google搜索中 全新可视化购物及结账功能 将在未来几个月内逐步推出 虚拟试穿功能即日起可在实验室版本中体验 现在把时间交还给Liz 感谢Vidhya！正如Sundar所说 本周晚些时候即将迎来重大升级 Gemini 2.5定制版将集成到AI模式和AI概览中 这意味着，Google搜索迎来了新篇章 受益于此，AI概览将会把AI的实用性 带给核心Google搜索体验的每一个用户 正如你今天所见 AI模式是一种彻底重构的AI搜索 集成了我们最前沿的AI特性和功能 我们很激动，Google搜索迎来了新篇章 毫不夸张地说，用户可以真正地问它任何事 从最简单到最棘手的问题 最深的研究、个性化购物需求 希望代劳的琐事 只需提问，即可获得响应 好戏开场！我的魅力自然流露 我的风格如此惊艳，让所有人都为之震撼 等等！我感觉妙不可言 来吧，展示你如何舞动\\n舞动、舞动，释放自我 我用崭新视角迎接挑战 将热情点燃，让全场沸腾 我们将激情调到最高点，就是这样，来吧！ 舞动、舞动，释放精彩 来吧，尽情展现你的独特魅力 我还应该做些什么来让它更坚固？ 为了让它更坚固 [...] 看来我们已经开始直播了？ 是的，我们已经和I/O大会的工作人员连上线了 大家好。从这个视角看I/O大会，真是太棒了！ Nishtha，你答应过我 只要我来帮忙，就送我一副Android XR眼镜 说话算数吗？ 当然！ 待会结束后我们去喝杯咖啡 我会把你的智能眼镜带过去！ 太棒了！待会见！祝你演示顺利 谢谢 大家可以看到，我们在后台，这里真是热闹非凡 那是职业篮球运动员Giannis戴着我们的眼镜吗？ 我太喜欢这眼镜了！ 它解放了我的双手，让我随时能来个双手击掌 太棒了，我继续来展示这副眼镜的功能 今天一整天，我都对这面照片墙很好奇 比如这是什么乐队，他们和这个地方有什么联系？ 这是Counting Crows 一支来自旧金山湾区的传奇摇滚乐队 他们在Shoreline Amphitheatre演出过很多次 这里通常被视为是他们的返乡主场 天哪！你能给我看看他们在这里演出时的照片吗？ 当然，这有一张，想让我播放一首他们的歌曲吗？ 好啊，我可以一边听一边走向舞台 太好了！请听Counting Crows的《Under the Aurora》 好了，大家准备好一睹这副眼镜的风采了吗？\", \"score\": 0.8989177}, {\"title\": \"Google I/O 2025 keynote in 32 minutes - YouTube\", \"url\": \"https://www.youtube.com/watch?v=bDVpI23q8Zg\", \"content\": \"Google just wrapped up its big keynote at I/O 2025. As expected, it was full of AI-related announcements, ranging from updates across Google’s image and video generation models to new features in Search and Gmail. We got a look at Project Astra’s latest prototype that will complete tasks on your behalf, Gemini 2.5 Pro updates, a new AI filmmaking app called Flow, Project Starline is now Google Beam. Plus, a look at Xreal’s new Project Aura prototype. Here’s everything you missed. [...] 10:11 Gemini 2.5 and Project Astra demo\\n10:55 Scientific AI research apps\\n11:40 AI Mode in Google Search\\n12:45 Deep Search and demo\\n13:57 Search Live\\n14:11 Visual shopping virtual try-on clothes demo\\n14:47 Agentic checkout\\n15:28 Gemini Live demo\\n16:00 Deep research\\n16:20 canvas\\n17:00 Imagen 4\\n18:00 Veo 3\\n19:00 Lyria 2\\n19:30 synthID\\n20:00 Aronofsky is using AI\\n20:48 Flow for creators\\n21:00 Flow video demo\\n22:30 Google AI pro and Ultra\\n23:30 Gemini is everywhere\\n24:25 Gemini on Headsets [...] 0:00 Intro\\n0:10 Ironwood\\n0:26 Google Beam/Project Starline\\n1:06 Speech Translation in Google Meet\\n1:55 Project Astra/Gemini Live Demo\\n2:34 Project Mariner\\n3:12 Gemini is MCP Compatible\\n3:25 Agent Mode\\n4:11 Personal context\\n4:29 Personalized Smart Replies\\n5:28 Gemini 2.5 Flash\\n5:51 Text-to-speech updates\\n6:45 Security updates and Thought Summaries\\n7:13 Thinking Budgets\\n7:30 Gemini 2.5 Flash coding Demo\\n8:38 Jules coding assistant\\n8:59 Gemini Diffusion\\n9:30 Gemini 2.5 Pro Deep Think\", \"score\": 0.8945781}, {\"title\": \"Google I/O 2025: News and announcements\", \"url\": \"https://blog.google/technology/developers/google-io-2025-collection/\", \"content\": \"Image 2: A message from our CEOGoogle I/O 2025: From research to reality At our annual developer conference, we announced how we’re making AI even more helpful with Gemini. By Sundar Pichai- May 20, 2025 \\n   Image 3: Google DeepMindOur vision for building a universal AI assistant At Google I/O, we discussed how we're extending Gemini to become a world model. By Demis Hassabis- May 20, 2025 [...] Image 10: SearchAI in Search: Going beyond information to intelligence Today at I/O, we showed how we’re enhancing Search with our latest Gemini models via AI Mode. By Elizabeth Reid- May 20, 2025 \\n   Image 11: AIMeet Flow: AI-powered filmmaking with Veo 3 Today we introduced Flow, a new AI filmmaking tool built with and for creatives for the next wave of storytelling. By Tom Hume- May 20, 2025 [...] Image 14: ShoppingShop with AI Mode, use AI to buy and try clothes on yourself virtually Learn more about Google’s new shopping features in AI Mode as well as a new virtual try-on tool that works with personal photos. By Lilian Rincon- May 20, 2025 \\n   Image 15: DevelopersBuilding with AI: highlights for developers at Google I/O Learn about the new tools we’re unveiling at I/O to help developers push the boundaries of what’s possible when building AI applicatio… By Mat Velloso- May 20, 2025\", \"score\": 0.87706697}, {\"title\": \"Explore Google I/O 2025\", \"url\": \"https://io.google/2025/explore/\", \"content\": \"Explore Google I/O 2025\\n\\n===============\\n\\nSkip to main content\\n\\nImage 1Image 2\\n\\nImage 3Image 4Image 5Image 6\\n\\nExploreCommunityAbout\\n\\nWatch and explore\\n=================\\n\\nReview keynotes, sessions, and learning experiences about the latest developer products and platforms.\\n\\nSee all content\\n\\nImage 7Image 8\\n\\nFocus areas\\n-----------\\n\\nImage 9 Android -------)\\n\\nImage 10 AI --)\\n\\nImage 11 Web ---)\\n\\nImage 12 Cloud -----)\\n\\nFind a session\\n--------------\\n\\nView all speakers Image 13\", \"score\": 0.80771893}, {\"title\": \"What you should know from the Google I/O 2025 Developer keynote\", \"url\": \"https://developers.googleblog.com/en/google-io-2025-developer-keynote-recap/\", \"content\": \"Learn how we’re making it easier for you to build great experiences across devices.\\n\\nBuilding experiences with generative AI: Generative AI enhances apps by making them intelligent, personalized, and agentic. We announced new ML Kit GenAI APIs using Gemini Nano for common on-device tasks. We showcased an AI sample app, Androidify, which lets you create an Android robot of yourself using a selfie. Discover how Androidify is built, and read the developer documentation to get started. [...] Share\\n   Facebook\\n   Twitter\\n   LinkedIn\\n   Mail\\n   \\n\\nImage 3: Google I/O 2025 banner\\n\\nThis year at Google I/O we’re showing how you can build across Google’s different platforms, and innovate using our best AI models from Google DeepMind. Here are the top announcements from the Developer keynote.\\n\\nLink to Youtube Video (visible only when JS is disabled)\\n\\nBuilding with Gemini\\n--------------------\\n\\nGoogle AI Studio is the fastest way to evaluate models and start building with the Gemini API. [...] Following the keynotes, we’ll be livestreaming sessions across AI, Android, web, and cloud May 20-21. Then, check out all of the Google I/O announcements and updates with 100+ sessions, codelabs, and more available on demand starting May 22.\\n\\nMake sure to connect with our thriving global community of developers, and follow along on LinkedIn and Instagram as we bring I/O Connect events to developers around the world.\\n\\n posted in:\", \"score\": 0.8047902}]\n",
      "==================================\u001b[1m Ai Message \u001b[0m==================================\n",
      "\n",
      "Google I/O 2025 highlighted significant advancements in AI and developer tools, with key announcements including:\n",
      "\n",
      "1. **Gemini AI Models**:\n",
      "   - **Gemini 2.5 Pro** and **Gemini Live** for enhanced AI reasoning and real-time interactions.\n",
      "   - **Gemini 2.5 Custom** integrated into AI Overviews and AI Mode in Google Search, enabling personalized, AI-driven responses to user queries.\n",
      "\n",
      "2. **Search & Shopping**:\n",
      "   - **AI Mode** in Google Search now supports complex research, shopping, and task automation.\n",
      "   - **Visual Shopping** with virtual try-on features using personal photos, with agentic checkout for seamless purchases.\n",
      "\n",
      "3. **Android & XR**:\n",
      "   - **Android XR** launched with new glasses (Project Aura) for immersive augmented reality experiences.\n",
      "   - **Project Starline** rebranded as **Google Beam**, advancing 3D video calls.\n",
      "\n",
      "4. **Creative Tools**:\n",
      "   - **Flow**, an AI filmmaking app using Veo 3 for video generation.\n",
      "   - **Imagen 4**, **Veo 3**, and **Lyria 2** for advanced image, video, and music creation.\n",
      "\n",
      "5. **Developer Innovations**:\n",
      "   - **ML Kit GenAI** APIs with Gemini Nano for on-device AI tasks.\n",
      "   - **Androidify**, a sample app to create personalized Android robots from selfies.\n",
      "\n",
      "6. **Other Highlights**:\n",
      "   - **Project Astra** for task automation, **Deep Search** for research, and **Security Updates** with \"Thought Summaries.\"\n",
      "   - **Jules**, a coding assistant, and **Gemini Diffusion** for image generation.\n",
      "\n",
      "Resources like the [Google I/O 2025 blog](https://blog.google/technology/developers/google-io-2025-collection/) and [keynote recap](https://developers.googleblog.com/en/google-io-2025-developer-keynote-recap/) provide detailed insights. Developers can access 100+ on-demand sessions starting May 22.\n"
     ]
    }
   ],
   "source": [
    "messages=graph.invoke({\"messages\":HumanMessage(content=\"Summarize Google I/O 2025\")})\n",
    "for m in messages['messages']:\n",
    "    m.pretty_print()"
   ]
  }
 ],
 "metadata": {
  "kernelspec": {
   "display_name": ".venv",
   "language": "python",
   "name": "python3"
  },
  "language_info": {
   "codemirror_mode": {
    "name": "ipython",
    "version": 3
   },
   "file_extension": ".py",
   "mimetype": "text/x-python",
   "name": "python",
   "nbconvert_exporter": "python",
   "pygments_lexer": "ipython3",
   "version": "3.13.3"
  }
 },
 "nbformat": 4,
 "nbformat_minor": 2
}
